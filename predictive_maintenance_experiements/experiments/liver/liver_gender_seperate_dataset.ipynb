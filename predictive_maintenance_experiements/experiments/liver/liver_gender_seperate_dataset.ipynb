{
 "metadata": {
  "language_info": {
   "codemirror_mode": {
    "name": "ipython",
    "version": 3
   },
   "file_extension": ".py",
   "mimetype": "text/x-python",
   "name": "python",
   "nbconvert_exporter": "python",
   "pygments_lexer": "ipython3",
   "version": "3.6.9-final"
  },
  "orig_nbformat": 2,
  "kernelspec": {
   "name": "python3",
   "display_name": "Python 3",
   "language": "python"
  }
 },
 "nbformat": 4,
 "nbformat_minor": 2,
 "cells": [
  {
   "cell_type": "code",
   "execution_count": 1,
   "metadata": {},
   "outputs": [],
   "source": [
    "# data cleaning and plots\n",
    "import pandas as pd\n",
    "import numpy as np\n",
    "\n",
    "# Load data\n",
    "initial_data = pd.read_csv('../../datasets/liver/indian_liver_patient.csv')"
   ]
  },
  {
   "cell_type": "code",
   "execution_count": 2,
   "metadata": {},
   "outputs": [],
   "source": [
    "# initial_data = initial_data.sort_values('Gender')\n",
    "df_male = initial_data[initial_data['Gender'] == 'Male']\n",
    "df_female = initial_data[initial_data['Gender'] == 'Female']\n",
    "\n",
    "df_male.to_csv('../../datasets/liver/indian_liver_patient_male.csv', index=False)\n",
    "df_female.to_csv('../../datasets/liver/indian_liver_patient_female.csv', index=False)"
   ]
  },
  {
   "cell_type": "code",
   "execution_count": 3,
   "metadata": {},
   "outputs": [
    {
     "output_type": "execute_result",
     "data": {
      "text/plain": [
       "     Age Gender  Total_Bilirubin  Direct_Bilirubin  Alkaline_Phosphotase  \\\n",
       "1     62   Male             10.9               5.5                   699   \n",
       "2     62   Male              7.3               4.1                   490   \n",
       "3     58   Male              1.0               0.4                   182   \n",
       "4     72   Male              3.9               2.0                   195   \n",
       "5     46   Male              1.8               0.7                   208   \n",
       "..   ...    ...              ...               ...                   ...   \n",
       "578   60   Male              0.5               0.1                   500   \n",
       "579   40   Male              0.6               0.1                    98   \n",
       "580   52   Male              0.8               0.2                   245   \n",
       "581   31   Male              1.3               0.5                   184   \n",
       "582   38   Male              1.0               0.3                   216   \n",
       "\n",
       "     Alamine_Aminotransferase  Aspartate_Aminotransferase  Total_Protiens  \\\n",
       "1                          64                         100             7.5   \n",
       "2                          60                          68             7.0   \n",
       "3                          14                          20             6.8   \n",
       "4                          27                          59             7.3   \n",
       "5                          19                          14             7.6   \n",
       "..                        ...                         ...             ...   \n",
       "578                        20                          34             5.9   \n",
       "579                        35                          31             6.0   \n",
       "580                        48                          49             6.4   \n",
       "581                        29                          32             6.8   \n",
       "582                        21                          24             7.3   \n",
       "\n",
       "     Albumin  Albumin_and_Globulin_Ratio  Dataset  \n",
       "1        3.2                        0.74        2  \n",
       "2        3.3                        0.89        2  \n",
       "3        3.4                        1.00        2  \n",
       "4        2.4                        0.40        2  \n",
       "5        4.4                        1.30        2  \n",
       "..       ...                         ...      ...  \n",
       "578      1.6                        0.37        1  \n",
       "579      3.2                        1.10        2  \n",
       "580      3.2                        1.00        2  \n",
       "581      3.4                        1.00        2  \n",
       "582      4.4                        1.50        1  \n",
       "\n",
       "[441 rows x 11 columns]"
      ],
      "text/html": "<div>\n<style scoped>\n    .dataframe tbody tr th:only-of-type {\n        vertical-align: middle;\n    }\n\n    .dataframe tbody tr th {\n        vertical-align: top;\n    }\n\n    .dataframe thead th {\n        text-align: right;\n    }\n</style>\n<table border=\"1\" class=\"dataframe\">\n  <thead>\n    <tr style=\"text-align: right;\">\n      <th></th>\n      <th>Age</th>\n      <th>Gender</th>\n      <th>Total_Bilirubin</th>\n      <th>Direct_Bilirubin</th>\n      <th>Alkaline_Phosphotase</th>\n      <th>Alamine_Aminotransferase</th>\n      <th>Aspartate_Aminotransferase</th>\n      <th>Total_Protiens</th>\n      <th>Albumin</th>\n      <th>Albumin_and_Globulin_Ratio</th>\n      <th>Dataset</th>\n    </tr>\n  </thead>\n  <tbody>\n    <tr>\n      <th>1</th>\n      <td>62</td>\n      <td>Male</td>\n      <td>10.9</td>\n      <td>5.5</td>\n      <td>699</td>\n      <td>64</td>\n      <td>100</td>\n      <td>7.5</td>\n      <td>3.2</td>\n      <td>0.74</td>\n      <td>2</td>\n    </tr>\n    <tr>\n      <th>2</th>\n      <td>62</td>\n      <td>Male</td>\n      <td>7.3</td>\n      <td>4.1</td>\n      <td>490</td>\n      <td>60</td>\n      <td>68</td>\n      <td>7.0</td>\n      <td>3.3</td>\n      <td>0.89</td>\n      <td>2</td>\n    </tr>\n    <tr>\n      <th>3</th>\n      <td>58</td>\n      <td>Male</td>\n      <td>1.0</td>\n      <td>0.4</td>\n      <td>182</td>\n      <td>14</td>\n      <td>20</td>\n      <td>6.8</td>\n      <td>3.4</td>\n      <td>1.00</td>\n      <td>2</td>\n    </tr>\n    <tr>\n      <th>4</th>\n      <td>72</td>\n      <td>Male</td>\n      <td>3.9</td>\n      <td>2.0</td>\n      <td>195</td>\n      <td>27</td>\n      <td>59</td>\n      <td>7.3</td>\n      <td>2.4</td>\n      <td>0.40</td>\n      <td>2</td>\n    </tr>\n    <tr>\n      <th>5</th>\n      <td>46</td>\n      <td>Male</td>\n      <td>1.8</td>\n      <td>0.7</td>\n      <td>208</td>\n      <td>19</td>\n      <td>14</td>\n      <td>7.6</td>\n      <td>4.4</td>\n      <td>1.30</td>\n      <td>2</td>\n    </tr>\n    <tr>\n      <th>...</th>\n      <td>...</td>\n      <td>...</td>\n      <td>...</td>\n      <td>...</td>\n      <td>...</td>\n      <td>...</td>\n      <td>...</td>\n      <td>...</td>\n      <td>...</td>\n      <td>...</td>\n      <td>...</td>\n    </tr>\n    <tr>\n      <th>578</th>\n      <td>60</td>\n      <td>Male</td>\n      <td>0.5</td>\n      <td>0.1</td>\n      <td>500</td>\n      <td>20</td>\n      <td>34</td>\n      <td>5.9</td>\n      <td>1.6</td>\n      <td>0.37</td>\n      <td>1</td>\n    </tr>\n    <tr>\n      <th>579</th>\n      <td>40</td>\n      <td>Male</td>\n      <td>0.6</td>\n      <td>0.1</td>\n      <td>98</td>\n      <td>35</td>\n      <td>31</td>\n      <td>6.0</td>\n      <td>3.2</td>\n      <td>1.10</td>\n      <td>2</td>\n    </tr>\n    <tr>\n      <th>580</th>\n      <td>52</td>\n      <td>Male</td>\n      <td>0.8</td>\n      <td>0.2</td>\n      <td>245</td>\n      <td>48</td>\n      <td>49</td>\n      <td>6.4</td>\n      <td>3.2</td>\n      <td>1.00</td>\n      <td>2</td>\n    </tr>\n    <tr>\n      <th>581</th>\n      <td>31</td>\n      <td>Male</td>\n      <td>1.3</td>\n      <td>0.5</td>\n      <td>184</td>\n      <td>29</td>\n      <td>32</td>\n      <td>6.8</td>\n      <td>3.4</td>\n      <td>1.00</td>\n      <td>2</td>\n    </tr>\n    <tr>\n      <th>582</th>\n      <td>38</td>\n      <td>Male</td>\n      <td>1.0</td>\n      <td>0.3</td>\n      <td>216</td>\n      <td>21</td>\n      <td>24</td>\n      <td>7.3</td>\n      <td>4.4</td>\n      <td>1.50</td>\n      <td>1</td>\n    </tr>\n  </tbody>\n</table>\n<p>441 rows × 11 columns</p>\n</div>"
     },
     "metadata": {},
     "execution_count": 3
    }
   ],
   "source": [
    "df_male"
   ]
  },
  {
   "cell_type": "code",
   "execution_count": 4,
   "metadata": {},
   "outputs": [
    {
     "output_type": "execute_result",
     "data": {
      "text/plain": [
       "     Age  Gender  Total_Bilirubin  Direct_Bilirubin  Alkaline_Phosphotase  \\\n",
       "0     65  Female              0.7               0.1                   187   \n",
       "6     26  Female              0.9               0.2                   154   \n",
       "7     29  Female              0.9               0.3                   202   \n",
       "13    74  Female              1.1               0.4                   214   \n",
       "18    40  Female              0.9               0.3                   293   \n",
       "..   ...     ...              ...               ...                   ...   \n",
       "547   50  Female             27.7              10.8                   380   \n",
       "549   40  Female              2.1               1.0                   768   \n",
       "564   38  Female              0.6               0.1                   165   \n",
       "566   50  Female              1.0               0.3                   191   \n",
       "568   20  Female             16.7               8.4                   200   \n",
       "\n",
       "     Alamine_Aminotransferase  Aspartate_Aminotransferase  Total_Protiens  \\\n",
       "0                          16                          18             6.8   \n",
       "6                          16                          12             7.0   \n",
       "7                          14                          11             6.7   \n",
       "13                         22                          30             8.1   \n",
       "18                        232                         245             6.8   \n",
       "..                        ...                         ...             ...   \n",
       "547                        39                         348             7.1   \n",
       "549                        74                         141             7.8   \n",
       "564                        22                          34             5.9   \n",
       "566                        22                          31             7.8   \n",
       "568                        91                         101             6.9   \n",
       "\n",
       "     Albumin  Albumin_and_Globulin_Ratio  Dataset  \n",
       "0        3.3                        0.90        2  \n",
       "6        3.5                        1.00        2  \n",
       "7        3.6                        1.10        2  \n",
       "13       4.1                        1.00        2  \n",
       "18       3.1                        0.80        2  \n",
       "..       ...                         ...      ...  \n",
       "547      2.3                        0.40        2  \n",
       "549      4.9                        1.60        2  \n",
       "564      2.9                        0.90        1  \n",
       "566      4.0                        1.00        1  \n",
       "568      3.5                        1.02        2  \n",
       "\n",
       "[142 rows x 11 columns]"
      ],
      "text/html": "<div>\n<style scoped>\n    .dataframe tbody tr th:only-of-type {\n        vertical-align: middle;\n    }\n\n    .dataframe tbody tr th {\n        vertical-align: top;\n    }\n\n    .dataframe thead th {\n        text-align: right;\n    }\n</style>\n<table border=\"1\" class=\"dataframe\">\n  <thead>\n    <tr style=\"text-align: right;\">\n      <th></th>\n      <th>Age</th>\n      <th>Gender</th>\n      <th>Total_Bilirubin</th>\n      <th>Direct_Bilirubin</th>\n      <th>Alkaline_Phosphotase</th>\n      <th>Alamine_Aminotransferase</th>\n      <th>Aspartate_Aminotransferase</th>\n      <th>Total_Protiens</th>\n      <th>Albumin</th>\n      <th>Albumin_and_Globulin_Ratio</th>\n      <th>Dataset</th>\n    </tr>\n  </thead>\n  <tbody>\n    <tr>\n      <th>0</th>\n      <td>65</td>\n      <td>Female</td>\n      <td>0.7</td>\n      <td>0.1</td>\n      <td>187</td>\n      <td>16</td>\n      <td>18</td>\n      <td>6.8</td>\n      <td>3.3</td>\n      <td>0.90</td>\n      <td>2</td>\n    </tr>\n    <tr>\n      <th>6</th>\n      <td>26</td>\n      <td>Female</td>\n      <td>0.9</td>\n      <td>0.2</td>\n      <td>154</td>\n      <td>16</td>\n      <td>12</td>\n      <td>7.0</td>\n      <td>3.5</td>\n      <td>1.00</td>\n      <td>2</td>\n    </tr>\n    <tr>\n      <th>7</th>\n      <td>29</td>\n      <td>Female</td>\n      <td>0.9</td>\n      <td>0.3</td>\n      <td>202</td>\n      <td>14</td>\n      <td>11</td>\n      <td>6.7</td>\n      <td>3.6</td>\n      <td>1.10</td>\n      <td>2</td>\n    </tr>\n    <tr>\n      <th>13</th>\n      <td>74</td>\n      <td>Female</td>\n      <td>1.1</td>\n      <td>0.4</td>\n      <td>214</td>\n      <td>22</td>\n      <td>30</td>\n      <td>8.1</td>\n      <td>4.1</td>\n      <td>1.00</td>\n      <td>2</td>\n    </tr>\n    <tr>\n      <th>18</th>\n      <td>40</td>\n      <td>Female</td>\n      <td>0.9</td>\n      <td>0.3</td>\n      <td>293</td>\n      <td>232</td>\n      <td>245</td>\n      <td>6.8</td>\n      <td>3.1</td>\n      <td>0.80</td>\n      <td>2</td>\n    </tr>\n    <tr>\n      <th>...</th>\n      <td>...</td>\n      <td>...</td>\n      <td>...</td>\n      <td>...</td>\n      <td>...</td>\n      <td>...</td>\n      <td>...</td>\n      <td>...</td>\n      <td>...</td>\n      <td>...</td>\n      <td>...</td>\n    </tr>\n    <tr>\n      <th>547</th>\n      <td>50</td>\n      <td>Female</td>\n      <td>27.7</td>\n      <td>10.8</td>\n      <td>380</td>\n      <td>39</td>\n      <td>348</td>\n      <td>7.1</td>\n      <td>2.3</td>\n      <td>0.40</td>\n      <td>2</td>\n    </tr>\n    <tr>\n      <th>549</th>\n      <td>40</td>\n      <td>Female</td>\n      <td>2.1</td>\n      <td>1.0</td>\n      <td>768</td>\n      <td>74</td>\n      <td>141</td>\n      <td>7.8</td>\n      <td>4.9</td>\n      <td>1.60</td>\n      <td>2</td>\n    </tr>\n    <tr>\n      <th>564</th>\n      <td>38</td>\n      <td>Female</td>\n      <td>0.6</td>\n      <td>0.1</td>\n      <td>165</td>\n      <td>22</td>\n      <td>34</td>\n      <td>5.9</td>\n      <td>2.9</td>\n      <td>0.90</td>\n      <td>1</td>\n    </tr>\n    <tr>\n      <th>566</th>\n      <td>50</td>\n      <td>Female</td>\n      <td>1.0</td>\n      <td>0.3</td>\n      <td>191</td>\n      <td>22</td>\n      <td>31</td>\n      <td>7.8</td>\n      <td>4.0</td>\n      <td>1.00</td>\n      <td>1</td>\n    </tr>\n    <tr>\n      <th>568</th>\n      <td>20</td>\n      <td>Female</td>\n      <td>16.7</td>\n      <td>8.4</td>\n      <td>200</td>\n      <td>91</td>\n      <td>101</td>\n      <td>6.9</td>\n      <td>3.5</td>\n      <td>1.02</td>\n      <td>2</td>\n    </tr>\n  </tbody>\n</table>\n<p>142 rows × 11 columns</p>\n</div>"
     },
     "metadata": {},
     "execution_count": 4
    }
   ],
   "source": [
    "df_female"
   ]
  },
  {
   "cell_type": "code",
   "execution_count": 7,
   "metadata": {},
   "outputs": [
    {
     "output_type": "execute_result",
     "data": {
      "text/plain": [
       "(441, 11)"
      ]
     },
     "metadata": {},
     "execution_count": 7
    }
   ],
   "source": [
    "initial_data = df_male\n",
    "initial_data.shape"
   ]
  },
  {
   "cell_type": "code",
   "execution_count": 8,
   "metadata": {},
   "outputs": [
    {
     "output_type": "stream",
     "name": "stdout",
     "text": [
      "<class 'pandas.core.frame.DataFrame'>\nInt64Index: 441 entries, 1 to 582\nData columns (total 11 columns):\n #   Column                      Non-Null Count  Dtype  \n---  ------                      --------------  -----  \n 0   Age                         441 non-null    int64  \n 1   Gender                      441 non-null    object \n 2   Total_Bilirubin             441 non-null    float64\n 3   Direct_Bilirubin            441 non-null    float64\n 4   Alkaline_Phosphotase        441 non-null    int64  \n 5   Alamine_Aminotransferase    441 non-null    int64  \n 6   Aspartate_Aminotransferase  441 non-null    int64  \n 7   Total_Protiens              441 non-null    float64\n 8   Albumin                     441 non-null    float64\n 9   Albumin_and_Globulin_Ratio  439 non-null    float64\n 10  Dataset                     441 non-null    int64  \ndtypes: float64(5), int64(5), object(1)\nmemory usage: 41.3+ KB\n"
     ]
    }
   ],
   "source": [
    "initial_data.info()"
   ]
  }
 ]
}