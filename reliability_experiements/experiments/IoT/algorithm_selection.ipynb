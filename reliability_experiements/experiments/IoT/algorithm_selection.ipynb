{
 "metadata": {
  "language_info": {
   "codemirror_mode": {
    "name": "ipython",
    "version": 3
   },
   "file_extension": ".py",
   "mimetype": "text/x-python",
   "name": "python",
   "nbconvert_exporter": "python",
   "pygments_lexer": "ipython3",
   "version": "3.6.9-final"
  },
  "orig_nbformat": 2,
  "kernelspec": {
   "name": "python3",
   "display_name": "Python 3",
   "language": "python"
  }
 },
 "nbformat": 4,
 "nbformat_minor": 2,
 "cells": [
  {
   "source": [
    "# Predictive Maintenance - Algorithm Selection"
   ],
   "cell_type": "markdown",
   "metadata": {}
  },
  {
   "source": [
    "## Setup"
   ],
   "cell_type": "markdown",
   "metadata": {}
  },
  {
   "cell_type": "code",
   "execution_count": 21,
   "metadata": {},
   "outputs": [],
   "source": [
    "### IMPORT LIBRARIES\n",
    "import os\n",
    "import numpy as np\n",
    "import pandas as pd\n",
    "import matplotlib.pyplot as plt\n",
    "\n",
    "from sklearn.model_selection import train_test_split\n",
    "from sklearn.preprocessing import KBinsDiscretizer, MinMaxScaler, normalize\n",
    "from sklearn.metrics import accuracy_score, precision_score, recall_score, confusion_matrix, classification_report, roc_curve, roc_auc_score, f1_score\n",
    "from sklearn.decomposition import PCA\n",
    "\n",
    "from sklearn.ensemble import RandomForestClassifier\n",
    "from sklearn.linear_model import LogisticRegression, LinearRegression, Lasso\n",
    "from sklearn.neighbors import KNeighborsClassifier\n",
    "from sklearn.neural_network import MLPClassifier\n",
    "from sklearn.svm import SVC\n",
    "from sklearn.naive_bayes import GaussianNB\n",
    "\n",
    "from sklearn.linear_model import SGDClassifier\n",
    "from sklearn import tree\n",
    "\n",
    "### READ DATA\n",
    "##### Needs to be ran from the project directory\n",
    "train_measurements = pd.read_csv('../../datasets/IoT/measurements.csv')\n",
    "train_measurements = train_measurements.sort_values(by=['measurement_time'], ascending=[True])\n",
    "\n",
    "train_failures = pd.read_csv('../../datasets/IoT/failures.csv')\n",
    "train_failures = train_failures.sort_values(by=['failure_time'], ascending=[True])\n"
   ]
  },
  {
   "cell_type": "code",
   "execution_count": 22,
   "metadata": {},
   "outputs": [],
   "source": [
    "train_measurements.measurement_time = pd.to_datetime(train_measurements.measurement_time, format=\"%Y-%m-%d %H:%M:%S\")\n",
    "train_failures.failure_time = pd.to_datetime(train_failures.failure_time)\n",
    "\n",
    "### MERGE NEXT FAILURE TO MEASUREMENTS\n",
    "train_combined = pd.merge_asof(\n",
    "    train_measurements,\n",
    "    train_failures,\n",
    "    left_on='measurement_time',\n",
    "    right_on='failure_time',\n",
    "    by='gadget_id',\n",
    "    direction='forward',\n",
    ")\n",
    "\n",
    "### TRANSFORM COLUMNS\n",
    "train_combined['time_to_fail'] = train_combined['failure_time']-train_combined['measurement_time']\n",
    "train_combined['fail_in_1h'] = np.where(train_combined['time_to_fail']<pd.Timedelta(hours=1), 1, 0)\n",
    "\n",
    "### CALCULATE RUNNING MEASURES\n",
    "train_combined = train_combined.reset_index(drop=True)\n",
    "train_combined = train_combined.sort_values(by=['gadget_id', 'measurement_time'], ascending=[True, True])\n",
    "\n",
    "train_combined['temperature_6h_std'] = train_combined.groupby('gadget_id')['temperature'].rolling(6).std(ddof=0).reset_index(drop=True)\n",
    "train_combined['pressure_6h_mean'] = train_combined.groupby('gadget_id')['pressure'].rolling(6).mean().reset_index(drop=True)\n",
    "\n",
    "train_combined.to_csv('../../datasets/IoT/train_combined.csv', index=False)"
   ]
  },
  {
   "cell_type": "code",
   "execution_count": 23,
   "metadata": {},
   "outputs": [
    {
     "output_type": "execute_result",
     "data": {
      "text/plain": [
       "          measurement_time  gadget_id  vibration_x  vibration_y  pressure  \\\n",
       "0  2020-07-15 00:00:00.000          1            3            7      16.0   \n",
       "7  2020-07-15 01:00:00.000          1            8            3      12.0   \n",
       "13 2020-07-15 01:59:59.990          1           10            8      20.0   \n",
       "18 2020-07-15 02:59:59.985          1            6            5      20.0   \n",
       "25 2020-07-15 03:59:59.980          1            6            9      16.0   \n",
       "\n",
       "    temperature  Unnamed: 10  Unnamed: 11                  failure_time  \\\n",
       "0     44.114437          NaN          NaN 2020-07-15 09:56:03.974006640   \n",
       "7     34.395177          NaN          NaN 2020-07-15 09:56:03.974006640   \n",
       "13    38.280705          NaN          NaN 2020-07-15 09:56:03.974006640   \n",
       "18    41.878215          NaN          NaN 2020-07-15 09:56:03.974006640   \n",
       "25    39.257268          NaN          NaN 2020-07-15 09:56:03.974006640   \n",
       "\n",
       "                time_to_fail  fail_in_1h  temperature_6h_std  pressure_6h_mean  \n",
       "0  0 days 09:56:03.974006640           0                 NaN               NaN  \n",
       "7  0 days 08:56:03.974006640           0            3.453742         15.500000  \n",
       "13 0 days 07:56:03.984006640           0            3.803752         16.833333  \n",
       "18 0 days 06:56:03.989006640           0            3.679122         15.166667  \n",
       "25 0 days 05:56:03.994006640           0            9.337838         13.000000  "
      ],
      "text/html": "<div>\n<style scoped>\n    .dataframe tbody tr th:only-of-type {\n        vertical-align: middle;\n    }\n\n    .dataframe tbody tr th {\n        vertical-align: top;\n    }\n\n    .dataframe thead th {\n        text-align: right;\n    }\n</style>\n<table border=\"1\" class=\"dataframe\">\n  <thead>\n    <tr style=\"text-align: right;\">\n      <th></th>\n      <th>measurement_time</th>\n      <th>gadget_id</th>\n      <th>vibration_x</th>\n      <th>vibration_y</th>\n      <th>pressure</th>\n      <th>temperature</th>\n      <th>Unnamed: 10</th>\n      <th>Unnamed: 11</th>\n      <th>failure_time</th>\n      <th>time_to_fail</th>\n      <th>fail_in_1h</th>\n      <th>temperature_6h_std</th>\n      <th>pressure_6h_mean</th>\n    </tr>\n  </thead>\n  <tbody>\n    <tr>\n      <th>0</th>\n      <td>2020-07-15 00:00:00.000</td>\n      <td>1</td>\n      <td>3</td>\n      <td>7</td>\n      <td>16.0</td>\n      <td>44.114437</td>\n      <td>NaN</td>\n      <td>NaN</td>\n      <td>2020-07-15 09:56:03.974006640</td>\n      <td>0 days 09:56:03.974006640</td>\n      <td>0</td>\n      <td>NaN</td>\n      <td>NaN</td>\n    </tr>\n    <tr>\n      <th>7</th>\n      <td>2020-07-15 01:00:00.000</td>\n      <td>1</td>\n      <td>8</td>\n      <td>3</td>\n      <td>12.0</td>\n      <td>34.395177</td>\n      <td>NaN</td>\n      <td>NaN</td>\n      <td>2020-07-15 09:56:03.974006640</td>\n      <td>0 days 08:56:03.974006640</td>\n      <td>0</td>\n      <td>3.453742</td>\n      <td>15.500000</td>\n    </tr>\n    <tr>\n      <th>13</th>\n      <td>2020-07-15 01:59:59.990</td>\n      <td>1</td>\n      <td>10</td>\n      <td>8</td>\n      <td>20.0</td>\n      <td>38.280705</td>\n      <td>NaN</td>\n      <td>NaN</td>\n      <td>2020-07-15 09:56:03.974006640</td>\n      <td>0 days 07:56:03.984006640</td>\n      <td>0</td>\n      <td>3.803752</td>\n      <td>16.833333</td>\n    </tr>\n    <tr>\n      <th>18</th>\n      <td>2020-07-15 02:59:59.985</td>\n      <td>1</td>\n      <td>6</td>\n      <td>5</td>\n      <td>20.0</td>\n      <td>41.878215</td>\n      <td>NaN</td>\n      <td>NaN</td>\n      <td>2020-07-15 09:56:03.974006640</td>\n      <td>0 days 06:56:03.989006640</td>\n      <td>0</td>\n      <td>3.679122</td>\n      <td>15.166667</td>\n    </tr>\n    <tr>\n      <th>25</th>\n      <td>2020-07-15 03:59:59.980</td>\n      <td>1</td>\n      <td>6</td>\n      <td>9</td>\n      <td>16.0</td>\n      <td>39.257268</td>\n      <td>NaN</td>\n      <td>NaN</td>\n      <td>2020-07-15 09:56:03.974006640</td>\n      <td>0 days 05:56:03.994006640</td>\n      <td>0</td>\n      <td>9.337838</td>\n      <td>13.000000</td>\n    </tr>\n  </tbody>\n</table>\n</div>"
     },
     "metadata": {},
     "execution_count": 23
    }
   ],
   "source": [
    "train_combined.head()"
   ]
  },
  {
   "cell_type": "code",
   "execution_count": 24,
   "metadata": {},
   "outputs": [],
   "source": [
    "### SPLIT TO TRAIN AND TEST\n",
    "X = ['vibration_y', 'pressure_6h_mean', 'temperature_6h_std']\n",
    "y = 'fail_in_1h'\n",
    "cols = X + [y]\n",
    "\n",
    "df_to_split = train_combined.copy()\n",
    "df_to_split = df_to_split.dropna(subset=cols)\n",
    "df_to_split = df_to_split.reset_index(drop=True)\n"
   ]
  },
  {
   "cell_type": "code",
   "execution_count": 25,
   "metadata": {},
   "outputs": [
    {
     "output_type": "stream",
     "name": "stdout",
     "text": [
      "Training data: (651, 43)\nTest data: (327, 43)\n"
     ]
    }
   ],
   "source": [
    "##### Create binary bins to \n",
    "binner = KBinsDiscretizer(n_bins=10, encode='onehot-dense', strategy='kmeans')\n",
    "binner.fit(df_to_split[X])\n",
    "arr_bins= binner.transform(df_to_split[X])\n",
    "df_bins = pd.DataFrame(arr_bins)\n",
    "\n",
    "X = list(df_bins.columns)\n",
    "cols = X + [y]\n",
    "\n",
    "df_to_split = pd.concat([df_to_split, df_bins], axis=1)\n",
    "\n",
    "# train consists of gadgets 1 -4\n",
    "df_train = df_to_split[df_to_split['gadget_id'].isin([1,2,3,4])].reset_index(drop=True).copy()\n",
    "\n",
    "# test consists of gfadgets 5 and 6\n",
    "df_test = df_to_split[df_to_split['gadget_id'].isin([5,6])].reset_index(drop=True).copy()\n",
    "\n",
    "print(f\"Training data: {df_train.shape}\")\n",
    "print(f\"Test data: {df_test.shape}\")\n"
   ]
  },
  {
   "cell_type": "code",
   "execution_count": 26,
   "metadata": {},
   "outputs": [
    {
     "output_type": "execute_result",
     "data": {
      "text/plain": [
       "         measurement_time  gadget_id  vibration_x  vibration_y  pressure  \\\n",
       "0 2020-07-15 01:00:00.000          1            8            3      12.0   \n",
       "1 2020-07-15 01:59:59.990          1           10            8      20.0   \n",
       "2 2020-07-15 02:59:59.985          1            6            5      20.0   \n",
       "3 2020-07-15 03:59:59.980          1            6            9      16.0   \n",
       "4 2020-07-15 04:59:59.975          1            2            6      10.0   \n",
       "\n",
       "   temperature  Unnamed: 10  Unnamed: 11                  failure_time  \\\n",
       "0    34.395177          NaN          NaN 2020-07-15 09:56:03.974006640   \n",
       "1    38.280705          NaN          NaN 2020-07-15 09:56:03.974006640   \n",
       "2    41.878215          NaN          NaN 2020-07-15 09:56:03.974006640   \n",
       "3    39.257268          NaN          NaN 2020-07-15 09:56:03.974006640   \n",
       "4    38.927343          NaN          NaN 2020-07-15 09:56:03.974006640   \n",
       "\n",
       "               time_to_fail  ...   20   21   22   23   24   25   26   27   28  \\\n",
       "0 0 days 08:56:03.974006640  ...  0.0  1.0  0.0  0.0  0.0  0.0  0.0  0.0  0.0   \n",
       "1 0 days 07:56:03.984006640  ...  0.0  1.0  0.0  0.0  0.0  0.0  0.0  0.0  0.0   \n",
       "2 0 days 06:56:03.989006640  ...  0.0  1.0  0.0  0.0  0.0  0.0  0.0  0.0  0.0   \n",
       "3 0 days 05:56:03.994006640  ...  0.0  0.0  0.0  1.0  0.0  0.0  0.0  0.0  0.0   \n",
       "4 0 days 04:56:03.999006640  ...  0.0  1.0  0.0  0.0  0.0  0.0  0.0  0.0  0.0   \n",
       "\n",
       "    29  \n",
       "0  0.0  \n",
       "1  0.0  \n",
       "2  0.0  \n",
       "3  0.0  \n",
       "4  0.0  \n",
       "\n",
       "[5 rows x 43 columns]"
      ],
      "text/html": "<div>\n<style scoped>\n    .dataframe tbody tr th:only-of-type {\n        vertical-align: middle;\n    }\n\n    .dataframe tbody tr th {\n        vertical-align: top;\n    }\n\n    .dataframe thead th {\n        text-align: right;\n    }\n</style>\n<table border=\"1\" class=\"dataframe\">\n  <thead>\n    <tr style=\"text-align: right;\">\n      <th></th>\n      <th>measurement_time</th>\n      <th>gadget_id</th>\n      <th>vibration_x</th>\n      <th>vibration_y</th>\n      <th>pressure</th>\n      <th>temperature</th>\n      <th>Unnamed: 10</th>\n      <th>Unnamed: 11</th>\n      <th>failure_time</th>\n      <th>time_to_fail</th>\n      <th>...</th>\n      <th>20</th>\n      <th>21</th>\n      <th>22</th>\n      <th>23</th>\n      <th>24</th>\n      <th>25</th>\n      <th>26</th>\n      <th>27</th>\n      <th>28</th>\n      <th>29</th>\n    </tr>\n  </thead>\n  <tbody>\n    <tr>\n      <th>0</th>\n      <td>2020-07-15 01:00:00.000</td>\n      <td>1</td>\n      <td>8</td>\n      <td>3</td>\n      <td>12.0</td>\n      <td>34.395177</td>\n      <td>NaN</td>\n      <td>NaN</td>\n      <td>2020-07-15 09:56:03.974006640</td>\n      <td>0 days 08:56:03.974006640</td>\n      <td>...</td>\n      <td>0.0</td>\n      <td>1.0</td>\n      <td>0.0</td>\n      <td>0.0</td>\n      <td>0.0</td>\n      <td>0.0</td>\n      <td>0.0</td>\n      <td>0.0</td>\n      <td>0.0</td>\n      <td>0.0</td>\n    </tr>\n    <tr>\n      <th>1</th>\n      <td>2020-07-15 01:59:59.990</td>\n      <td>1</td>\n      <td>10</td>\n      <td>8</td>\n      <td>20.0</td>\n      <td>38.280705</td>\n      <td>NaN</td>\n      <td>NaN</td>\n      <td>2020-07-15 09:56:03.974006640</td>\n      <td>0 days 07:56:03.984006640</td>\n      <td>...</td>\n      <td>0.0</td>\n      <td>1.0</td>\n      <td>0.0</td>\n      <td>0.0</td>\n      <td>0.0</td>\n      <td>0.0</td>\n      <td>0.0</td>\n      <td>0.0</td>\n      <td>0.0</td>\n      <td>0.0</td>\n    </tr>\n    <tr>\n      <th>2</th>\n      <td>2020-07-15 02:59:59.985</td>\n      <td>1</td>\n      <td>6</td>\n      <td>5</td>\n      <td>20.0</td>\n      <td>41.878215</td>\n      <td>NaN</td>\n      <td>NaN</td>\n      <td>2020-07-15 09:56:03.974006640</td>\n      <td>0 days 06:56:03.989006640</td>\n      <td>...</td>\n      <td>0.0</td>\n      <td>1.0</td>\n      <td>0.0</td>\n      <td>0.0</td>\n      <td>0.0</td>\n      <td>0.0</td>\n      <td>0.0</td>\n      <td>0.0</td>\n      <td>0.0</td>\n      <td>0.0</td>\n    </tr>\n    <tr>\n      <th>3</th>\n      <td>2020-07-15 03:59:59.980</td>\n      <td>1</td>\n      <td>6</td>\n      <td>9</td>\n      <td>16.0</td>\n      <td>39.257268</td>\n      <td>NaN</td>\n      <td>NaN</td>\n      <td>2020-07-15 09:56:03.974006640</td>\n      <td>0 days 05:56:03.994006640</td>\n      <td>...</td>\n      <td>0.0</td>\n      <td>0.0</td>\n      <td>0.0</td>\n      <td>1.0</td>\n      <td>0.0</td>\n      <td>0.0</td>\n      <td>0.0</td>\n      <td>0.0</td>\n      <td>0.0</td>\n      <td>0.0</td>\n    </tr>\n    <tr>\n      <th>4</th>\n      <td>2020-07-15 04:59:59.975</td>\n      <td>1</td>\n      <td>2</td>\n      <td>6</td>\n      <td>10.0</td>\n      <td>38.927343</td>\n      <td>NaN</td>\n      <td>NaN</td>\n      <td>2020-07-15 09:56:03.974006640</td>\n      <td>0 days 04:56:03.999006640</td>\n      <td>...</td>\n      <td>0.0</td>\n      <td>1.0</td>\n      <td>0.0</td>\n      <td>0.0</td>\n      <td>0.0</td>\n      <td>0.0</td>\n      <td>0.0</td>\n      <td>0.0</td>\n      <td>0.0</td>\n      <td>0.0</td>\n    </tr>\n  </tbody>\n</table>\n<p>5 rows × 43 columns</p>\n</div>"
     },
     "metadata": {},
     "execution_count": 26
    }
   ],
   "source": [
    "df_train.head()"
   ]
  },
  {
   "source": [
    "## Algorithms"
   ],
   "cell_type": "markdown",
   "metadata": {}
  },
  {
   "cell_type": "code",
   "execution_count": 27,
   "metadata": {},
   "outputs": [],
   "source": [
    "### PREDICTION PARAMETERS\n",
    "w0 = 1\n",
    "w1 = 8\n",
    "pos_label = 1\n"
   ]
  },
  {
   "cell_type": "code",
   "execution_count": 28,
   "metadata": {},
   "outputs": [],
   "source": [
    "### NEURAL NETWORK\n",
    "nn = MLPClassifier(\n",
    "    solver='lbfgs',\n",
    "    alpha=1e-5,\n",
    "    hidden_layer_sizes=(10),\n",
    "    random_state=1,\n",
    "    max_iter=10000,\n",
    "    activation='relu',\n",
    "    tol=0.00001,\n",
    ")\n",
    "nn.fit(df_train[X], df_train[y])\n",
    "df_test['nn'] = nn.predict(df_test[X])\n"
   ]
  },
  {
   "cell_type": "code",
   "execution_count": 29,
   "metadata": {},
   "outputs": [],
   "source": [
    "### RANDOM FOREST MODEL\n",
    "random_forest = RandomForestClassifier(\n",
    "    min_samples_leaf=7,\n",
    "    random_state=45,\n",
    "    n_estimators=50,\n",
    "    class_weight={0:w0, 1:w1}\n",
    ")\n",
    "random_forest.fit(df_train[X], df_train[y])\n",
    "df_test['rf'] = random_forest.predict(df_test[X])"
   ]
  },
  {
   "cell_type": "code",
   "execution_count": 30,
   "metadata": {},
   "outputs": [],
   "source": [
    "### LOGISTIC REGRESSION MODEL\n",
    "log_regr = LogisticRegression(class_weight={0:w0, 1:w1})\n",
    "log_regr.fit(df_train[X], df_train[y])\n",
    "df_test['log_regr'] = log_regr.predict(df_test[X])"
   ]
  },
  {
   "cell_type": "code",
   "execution_count": 31,
   "metadata": {},
   "outputs": [],
   "source": [
    "### LINEAR REGRESSION MODEL\n",
    "lin_regr = Lasso(alpha=0.1, positive=True)\n",
    "lin_regr.fit(df_train[X], df_train[y])\n",
    "df_test['lin_regr'] = lin_regr.predict(df_test[X])\n",
    "df_test['lin_regr'] = np.where(df_test['lin_regr']>=0.5,1,0)"
   ]
  },
  {
   "cell_type": "code",
   "execution_count": 32,
   "metadata": {},
   "outputs": [],
   "source": [
    "### KNN MODEL\n",
    "def knn_weights(knn_y):\n",
    "    return np.where(knn_y==1, w1, w0)\n",
    "knn = KNeighborsClassifier(weights=knn_weights)\n",
    "knn.fit(df_train[X], df_train[y])\n",
    "df_test['knn'] = knn.predict(df_test[X])"
   ]
  },
  {
   "cell_type": "code",
   "execution_count": 33,
   "metadata": {},
   "outputs": [],
   "source": [
    "### SVM\n",
    "svm = SVC(\n",
    "    class_weight={0:w0, 1:w1},\n",
    "    C=1,\n",
    "    random_state=42,\n",
    "    kernel='linear'\n",
    ")\n",
    "svm.fit(df_train[X], df_train[y])\n",
    "df_test['svm'] = svm.predict(df_test[X])"
   ]
  },
  {
   "cell_type": "code",
   "execution_count": 34,
   "metadata": {},
   "outputs": [],
   "source": [
    "\n",
    "### NAIVE BAYES\n",
    "bayes = GaussianNB()\n",
    "bayes.fit(df_train[X], df_train[y])\n",
    "df_test['bayes'] = bayes.predict(df_test[X])"
   ]
  },
  {
   "cell_type": "code",
   "execution_count": 35,
   "metadata": {},
   "outputs": [],
   "source": [
    "\n",
    "clf = SGDClassifier(loss=\"squared_loss\", \n",
    "    penalty=\"l2\", \n",
    "    max_iter=5)\n",
    "clf.fit(df_train[X], df_train[y])\n",
    "df_test['clf'] = clf.predict(df_test[X])"
   ]
  },
  {
   "source": [
    "## Results"
   ],
   "cell_type": "markdown",
   "metadata": {}
  },
  {
   "cell_type": "code",
   "execution_count": 36,
   "metadata": {},
   "outputs": [
    {
     "output_type": "execute_result",
     "data": {
      "text/plain": [
       "(327,)"
      ]
     },
     "metadata": {},
     "execution_count": 36
    }
   ],
   "source": [
    "df_test['svm'].shape"
   ]
  },
  {
   "cell_type": "code",
   "execution_count": 37,
   "metadata": {},
   "outputs": [
    {
     "output_type": "stream",
     "name": "stdout",
     "text": [
      "\n-----------\nrf\nPrecision: 0.3106796116504854\nRecall: 1.0\nAccuracy: 0.7828746177370031\nConfusion Matrix:\n [[224  71]\n [  0  32]]\nAUC: 0.8796610169491526\n\nf1: 0.4740740740740741\n\n0    224\n1    103\nName: rf, dtype: int64\n\n-----------\nlog_regr\nPrecision: 0.3\nRecall: 0.9375\nAccuracy: 0.7798165137614679\nConfusion Matrix:\n [[225  70]\n [  2  30]]\nAUC: 0.8501059322033898\n\nf1: 0.45454545454545453\n\n0    227\n1    100\nName: log_regr, dtype: int64\n\n-----------\nlin_regr\nPrecision: 0.0\nRecall: 0.0\nAccuracy: 0.9021406727828746\nConfusion Matrix:\n [[295   0]\n [ 32   0]]\nAUC: 0.5\n\nf1: 0.0\n\n0    327\nName: lin_regr, dtype: int64\n\n-----------\nknn\nPrecision: 0.2857142857142857\nRecall: 0.0625\nAccuracy: 0.8929663608562691\nConfusion Matrix:\n [[290   5]\n [ 30   2]]\nAUC: 0.5227754237288136\n\nf1: 0.10256410256410256\n\n0    320\n1      7\nName: knn, dtype: int64\n\n-----------\nnn\nPrecision: 0.36363636363636365\nRecall: 0.125\nAccuracy: 0.8929663608562691\nConfusion Matrix:\n [[288   7]\n [ 28   4]]\nAUC: 0.550635593220339\n\nf1: 0.18604651162790697\n\n0    316\n1     11\nName: nn, dtype: int64\n\n-----------\nsvm\nPrecision: 0.30303030303030304\nRecall: 0.9375\nAccuracy: 0.7828746177370031\nConfusion Matrix:\n [[226  69]\n [  2  30]]\nAUC: 0.8518008474576272\n\nf1: 0.45801526717557256\n\n0    228\n1     99\nName: svm, dtype: int64\n\n-----------\nbayes\nPrecision: 0.30303030303030304\nRecall: 0.9375\nAccuracy: 0.7828746177370031\nConfusion Matrix:\n [[226  69]\n [  2  30]]\nAUC: 0.8518008474576272\n\nf1: 0.45801526717557256\n\n0    228\n1     99\nName: bayes, dtype: int64\n\n-----------\nclf\nPrecision: 0.05970149253731343\nRecall: 0.25\nAccuracy: 0.5412844036697247\nConfusion Matrix:\n [[169 126]\n [ 24   8]]\nAUC: 0.41144067796610173\n\nf1: 0.09638554216867469\n\n0    193\n1    134\nName: clf, dtype: int64\n"
     ]
    }
   ],
   "source": [
    "### PRINT RESULTS\n",
    "model_summary = []\n",
    "c_matr = []\n",
    "models = ['rf', 'log_regr', 'lin_regr', 'knn', 'nn', 'svm', 'bayes', 'clf']\n",
    "for m in models:\n",
    "    print(f\"\\n-----------\\n{m}\")\n",
    "    try:\n",
    "        precision = precision_score(df_test['fail_in_1h'], df_test[m], zero_division=0, pos_label=pos_label)\n",
    "        recall = recall_score(df_test['fail_in_1h'], df_test[m], pos_label=pos_label)\n",
    "        accuracy = accuracy_score(df_test['fail_in_1h'], df_test[m] )\n",
    "        conf_matrix = confusion_matrix(df_test['fail_in_1h'], df_test[m] )\n",
    "\n",
    "        # fpr, tpr, thresholds = roc_curve(df_test['fail_in_1h'], df_test[m])\n",
    "        # aucscore = auc(fpr, tpr)\n",
    "        auc = roc_auc_score(df_test['fail_in_1h'], df_test[m])\n",
    "        f1 = f1_score(df_test['fail_in_1h'], df_test[m])\n",
    "\n",
    "        print(f\"Precision: {precision}\")\n",
    "        print(f\"Recall: {recall}\")\n",
    "        print(f\"Accuracy: {accuracy}\")\n",
    "        print(f\"Confusion Matrix:\\n {conf_matrix}\")\n",
    "        print(f\"AUC: {auc}\\n\")\n",
    "        print(f\"f1: {f1}\\n\")\n",
    "        print(df_test[m].value_counts())\n",
    "\n",
    "        model_summary.append({\n",
    "            'model': m,\n",
    "            'precision': precision,\n",
    "            'recall': recall,\n",
    "            'accuracy': accuracy,\n",
    "            'auc': auc,\n",
    "            'f1': f1,\n",
    "        })\n",
    "\n",
    "        c_matr.append({\n",
    "            'model':m,\n",
    "            'TP':conf_matrix[0][0],\n",
    "            'FP':conf_matrix[0][1],\n",
    "            'FN':conf_matrix[1][0],\n",
    "            'TN':conf_matrix[1][1]\n",
    "            })\n",
    "\n",
    "    except:\n",
    "        print(\"Can't calculate score\")"
   ]
  },
  {
   "source": [
    "## Evaluation"
   ],
   "cell_type": "markdown",
   "metadata": {}
  },
  {
   "cell_type": "code",
   "execution_count": 38,
   "metadata": {},
   "outputs": [
    {
     "output_type": "display_data",
     "data": {
      "text/plain": "<Figure size 432x288 with 1 Axes>",
      "image/svg+xml": "<?xml version=\"1.0\" encoding=\"utf-8\" standalone=\"no\"?>\n<!DOCTYPE svg PUBLIC \"-//W3C//DTD SVG 1.1//EN\"\n  \"http://www.w3.org/Graphics/SVG/1.1/DTD/svg11.dtd\">\n<!-- Created with matplotlib (https://matplotlib.org/) -->\n<svg height=\"272.89065pt\" version=\"1.1\" viewBox=\"0 0 424.50625 272.89065\" width=\"424.50625pt\" xmlns=\"http://www.w3.org/2000/svg\" xmlns:xlink=\"http://www.w3.org/1999/xlink\">\n <metadata>\n  <rdf:RDF xmlns:cc=\"http://creativecommons.org/ns#\" xmlns:dc=\"http://purl.org/dc/elements/1.1/\" xmlns:rdf=\"http://www.w3.org/1999/02/22-rdf-syntax-ns#\">\n   <cc:Work>\n    <dc:type rdf:resource=\"http://purl.org/dc/dcmitype/StillImage\"/>\n    <dc:date>2021-05-25T01:05:20.438936</dc:date>\n    <dc:format>image/svg+xml</dc:format>\n    <dc:creator>\n     <cc:Agent>\n      <dc:title>Matplotlib v3.3.4, https://matplotlib.org/</dc:title>\n     </cc:Agent>\n    </dc:creator>\n   </cc:Work>\n  </rdf:RDF>\n </metadata>\n <defs>\n  <style type=\"text/css\">*{stroke-linecap:butt;stroke-linejoin:round;}</style>\n </defs>\n <g id=\"figure_1\">\n  <g id=\"patch_1\">\n   <path d=\"M 0 272.89065 \nL 424.50625 272.89065 \nL 424.50625 0 \nL 0 0 \nz\n\" style=\"fill:none;\"/>\n  </g>\n  <g id=\"axes_1\">\n   <g id=\"patch_2\">\n    <path d=\"M 43.78125 206.230125 \nL 417.30625 206.230125 \nL 417.30625 22.318125 \nL 43.78125 22.318125 \nz\n\" style=\"fill:#ffffff;\"/>\n   </g>\n   <g id=\"patch_3\">\n    <path clip-path=\"url(#p31aec31fbf)\" d=\"M 60.759659 206.230125 \nL 71.713471 206.230125 \nL 71.713471 69.106281 \nL 60.759659 69.106281 \nz\n\" style=\"fill:#1f77b4;\"/>\n   </g>\n   <g id=\"patch_4\">\n    <path clip-path=\"url(#p31aec31fbf)\" d=\"M 104.574908 206.230125 \nL 115.528721 206.230125 \nL 115.528721 69.641921 \nL 104.574908 69.641921 \nz\n\" style=\"fill:#1f77b4;\"/>\n   </g>\n   <g id=\"patch_5\">\n    <path clip-path=\"url(#p31aec31fbf)\" d=\"M 148.390158 206.230125 \nL 159.34397 206.230125 \nL 159.34397 48.21632 \nL 148.390158 48.21632 \nz\n\" style=\"fill:#1f77b4;\"/>\n   </g>\n   <g id=\"patch_6\">\n    <path clip-path=\"url(#p31aec31fbf)\" d=\"M 192.205407 206.230125 \nL 203.159219 206.230125 \nL 203.159219 49.82324 \nL 192.205407 49.82324 \nz\n\" style=\"fill:#1f77b4;\"/>\n   </g>\n   <g id=\"patch_7\">\n    <path clip-path=\"url(#p31aec31fbf)\" d=\"M 236.020656 206.230125 \nL 246.974468 206.230125 \nL 246.974468 49.82324 \nL 236.020656 49.82324 \nz\n\" style=\"fill:#1f77b4;\"/>\n   </g>\n   <g id=\"patch_8\">\n    <path clip-path=\"url(#p31aec31fbf)\" d=\"M 279.835905 206.230125 \nL 290.789718 206.230125 \nL 290.789718 69.106281 \nL 279.835905 69.106281 \nz\n\" style=\"fill:#1f77b4;\"/>\n   </g>\n   <g id=\"patch_9\">\n    <path clip-path=\"url(#p31aec31fbf)\" d=\"M 323.651155 206.230125 \nL 334.604967 206.230125 \nL 334.604967 69.106281 \nL 323.651155 69.106281 \nz\n\" style=\"fill:#1f77b4;\"/>\n   </g>\n   <g id=\"patch_10\">\n    <path clip-path=\"url(#p31aec31fbf)\" d=\"M 367.466404 206.230125 \nL 378.420216 206.230125 \nL 378.420216 111.421842 \nL 367.466404 111.421842 \nz\n\" style=\"fill:#1f77b4;\"/>\n   </g>\n   <g id=\"patch_11\">\n    <path clip-path=\"url(#p31aec31fbf)\" d=\"M 71.713471 206.230125 \nL 82.667284 206.230125 \nL 82.667284 31.075839 \nL 71.713471 31.075839 \nz\n\" style=\"fill:#ff7f0e;\"/>\n   </g>\n   <g id=\"patch_12\">\n    <path clip-path=\"url(#p31aec31fbf)\" d=\"M 115.528721 206.230125 \nL 126.482533 206.230125 \nL 126.482533 42.022982 \nL 115.528721 42.022982 \nz\n\" style=\"fill:#ff7f0e;\"/>\n   </g>\n   <g id=\"patch_13\">\n    <path clip-path=\"url(#p31aec31fbf)\" d=\"M 159.34397 206.230125 \nL 170.297782 206.230125 \nL 170.297782 206.230125 \nL 159.34397 206.230125 \nz\n\" style=\"fill:#ff7f0e;\"/>\n   </g>\n   <g id=\"patch_14\">\n    <path clip-path=\"url(#p31aec31fbf)\" d=\"M 203.159219 206.230125 \nL 214.113032 206.230125 \nL 214.113032 195.282982 \nL 203.159219 195.282982 \nz\n\" style=\"fill:#ff7f0e;\"/>\n   </g>\n   <g id=\"patch_15\">\n    <path clip-path=\"url(#p31aec31fbf)\" d=\"M 246.974468 206.230125 \nL 257.928281 206.230125 \nL 257.928281 184.335839 \nL 246.974468 184.335839 \nz\n\" style=\"fill:#ff7f0e;\"/>\n   </g>\n   <g id=\"patch_16\">\n    <path clip-path=\"url(#p31aec31fbf)\" d=\"M 290.789718 206.230125 \nL 301.74353 206.230125 \nL 301.74353 42.022982 \nL 290.789718 42.022982 \nz\n\" style=\"fill:#ff7f0e;\"/>\n   </g>\n   <g id=\"patch_17\">\n    <path clip-path=\"url(#p31aec31fbf)\" d=\"M 334.604967 206.230125 \nL 345.558779 206.230125 \nL 345.558779 42.022982 \nL 334.604967 42.022982 \nz\n\" style=\"fill:#ff7f0e;\"/>\n   </g>\n   <g id=\"patch_18\">\n    <path clip-path=\"url(#p31aec31fbf)\" d=\"M 378.420216 206.230125 \nL 389.374029 206.230125 \nL 389.374029 162.441554 \nL 378.420216 162.441554 \nz\n\" style=\"fill:#ff7f0e;\"/>\n   </g>\n   <g id=\"patch_19\">\n    <path clip-path=\"url(#p31aec31fbf)\" d=\"M 82.667284 206.230125 \nL 93.621096 206.230125 \nL 93.621096 151.81326 \nL 82.667284 151.81326 \nz\n\" style=\"fill:#2ca02c;\"/>\n   </g>\n   <g id=\"patch_20\">\n    <path clip-path=\"url(#p31aec31fbf)\" d=\"M 126.482533 206.230125 \nL 137.436345 206.230125 \nL 137.436345 153.683839 \nL 126.482533 153.683839 \nz\n\" style=\"fill:#2ca02c;\"/>\n   </g>\n   <g id=\"patch_21\">\n    <path clip-path=\"url(#p31aec31fbf)\" d=\"M 170.297782 206.230125 \nL 181.251595 206.230125 \nL 181.251595 206.230125 \nL 170.297782 206.230125 \nz\n\" style=\"fill:#2ca02c;\"/>\n   </g>\n   <g id=\"patch_22\">\n    <path clip-path=\"url(#p31aec31fbf)\" d=\"M 214.113032 206.230125 \nL 225.066844 206.230125 \nL 225.066844 156.186043 \nL 214.113032 156.186043 \nz\n\" style=\"fill:#2ca02c;\"/>\n   </g>\n   <g id=\"patch_23\">\n    <path clip-path=\"url(#p31aec31fbf)\" d=\"M 257.928281 206.230125 \nL 268.882093 206.230125 \nL 268.882093 142.537657 \nL 257.928281 142.537657 \nz\n\" style=\"fill:#2ca02c;\"/>\n   </g>\n   <g id=\"patch_24\">\n    <path clip-path=\"url(#p31aec31fbf)\" d=\"M 301.74353 206.230125 \nL 312.697342 206.230125 \nL 312.697342 153.153069 \nL 301.74353 153.153069 \nz\n\" style=\"fill:#2ca02c;\"/>\n   </g>\n   <g id=\"patch_25\">\n    <path clip-path=\"url(#p31aec31fbf)\" d=\"M 345.558779 206.230125 \nL 356.512592 206.230125 \nL 356.512592 153.153069 \nL 345.558779 153.153069 \nz\n\" style=\"fill:#2ca02c;\"/>\n   </g>\n   <g id=\"patch_26\">\n    <path clip-path=\"url(#p31aec31fbf)\" d=\"M 389.374029 206.230125 \nL 400.327841 206.230125 \nL 400.327841 195.773153 \nL 389.374029 195.773153 \nz\n\" style=\"fill:#2ca02c;\"/>\n   </g>\n   <g id=\"matplotlib.axis_1\">\n    <g id=\"xtick_1\">\n     <g id=\"line2d_1\">\n      <defs>\n       <path d=\"M 0 0 \nL 0 3.5 \n\" id=\"m19740f9277\" style=\"stroke:#000000;stroke-width:0.8;\"/>\n      </defs>\n      <g>\n       <use style=\"stroke:#000000;stroke-width:0.8;\" x=\"77.190378\" xlink:href=\"#m19740f9277\" y=\"206.230125\"/>\n      </g>\n     </g>\n     <g id=\"text_1\">\n      <!-- rf -->\n      <g transform=\"translate(73.374753 220.828563)scale(0.1 -0.1)\">\n       <defs>\n        <path d=\"M 41.109375 46.296875 \nQ 39.59375 47.171875 37.8125 47.578125 \nQ 36.03125 48 33.890625 48 \nQ 26.265625 48 22.1875 43.046875 \nQ 18.109375 38.09375 18.109375 28.8125 \nL 18.109375 0 \nL 9.078125 0 \nL 9.078125 54.6875 \nL 18.109375 54.6875 \nL 18.109375 46.1875 \nQ 20.953125 51.171875 25.484375 53.578125 \nQ 30.03125 56 36.53125 56 \nQ 37.453125 56 38.578125 55.875 \nQ 39.703125 55.765625 41.0625 55.515625 \nz\n\" id=\"DejaVuSans-114\"/>\n        <path d=\"M 37.109375 75.984375 \nL 37.109375 68.5 \nL 28.515625 68.5 \nQ 23.6875 68.5 21.796875 66.546875 \nQ 19.921875 64.59375 19.921875 59.515625 \nL 19.921875 54.6875 \nL 34.71875 54.6875 \nL 34.71875 47.703125 \nL 19.921875 47.703125 \nL 19.921875 0 \nL 10.890625 0 \nL 10.890625 47.703125 \nL 2.296875 47.703125 \nL 2.296875 54.6875 \nL 10.890625 54.6875 \nL 10.890625 58.5 \nQ 10.890625 67.625 15.140625 71.796875 \nQ 19.390625 75.984375 28.609375 75.984375 \nz\n\" id=\"DejaVuSans-102\"/>\n       </defs>\n       <use xlink:href=\"#DejaVuSans-114\"/>\n       <use x=\"41.113281\" xlink:href=\"#DejaVuSans-102\"/>\n      </g>\n     </g>\n    </g>\n    <g id=\"xtick_2\">\n     <g id=\"line2d_2\">\n      <g>\n       <use style=\"stroke:#000000;stroke-width:0.8;\" x=\"121.005627\" xlink:href=\"#m19740f9277\" y=\"206.230125\"/>\n      </g>\n     </g>\n     <g id=\"text_2\">\n      <!-- log_regr -->\n      <g transform=\"translate(100.633752 220.828563)scale(0.1 -0.1)\">\n       <defs>\n        <path d=\"M 9.421875 75.984375 \nL 18.40625 75.984375 \nL 18.40625 0 \nL 9.421875 0 \nz\n\" id=\"DejaVuSans-108\"/>\n        <path d=\"M 30.609375 48.390625 \nQ 23.390625 48.390625 19.1875 42.75 \nQ 14.984375 37.109375 14.984375 27.296875 \nQ 14.984375 17.484375 19.15625 11.84375 \nQ 23.34375 6.203125 30.609375 6.203125 \nQ 37.796875 6.203125 41.984375 11.859375 \nQ 46.1875 17.53125 46.1875 27.296875 \nQ 46.1875 37.015625 41.984375 42.703125 \nQ 37.796875 48.390625 30.609375 48.390625 \nz\nM 30.609375 56 \nQ 42.328125 56 49.015625 48.375 \nQ 55.71875 40.765625 55.71875 27.296875 \nQ 55.71875 13.875 49.015625 6.21875 \nQ 42.328125 -1.421875 30.609375 -1.421875 \nQ 18.84375 -1.421875 12.171875 6.21875 \nQ 5.515625 13.875 5.515625 27.296875 \nQ 5.515625 40.765625 12.171875 48.375 \nQ 18.84375 56 30.609375 56 \nz\n\" id=\"DejaVuSans-111\"/>\n        <path d=\"M 45.40625 27.984375 \nQ 45.40625 37.75 41.375 43.109375 \nQ 37.359375 48.484375 30.078125 48.484375 \nQ 22.859375 48.484375 18.828125 43.109375 \nQ 14.796875 37.75 14.796875 27.984375 \nQ 14.796875 18.265625 18.828125 12.890625 \nQ 22.859375 7.515625 30.078125 7.515625 \nQ 37.359375 7.515625 41.375 12.890625 \nQ 45.40625 18.265625 45.40625 27.984375 \nz\nM 54.390625 6.78125 \nQ 54.390625 -7.171875 48.1875 -13.984375 \nQ 42 -20.796875 29.203125 -20.796875 \nQ 24.46875 -20.796875 20.265625 -20.09375 \nQ 16.0625 -19.390625 12.109375 -17.921875 \nL 12.109375 -9.1875 \nQ 16.0625 -11.328125 19.921875 -12.34375 \nQ 23.78125 -13.375 27.78125 -13.375 \nQ 36.625 -13.375 41.015625 -8.765625 \nQ 45.40625 -4.15625 45.40625 5.171875 \nL 45.40625 9.625 \nQ 42.625 4.78125 38.28125 2.390625 \nQ 33.9375 0 27.875 0 \nQ 17.828125 0 11.671875 7.65625 \nQ 5.515625 15.328125 5.515625 27.984375 \nQ 5.515625 40.671875 11.671875 48.328125 \nQ 17.828125 56 27.875 56 \nQ 33.9375 56 38.28125 53.609375 \nQ 42.625 51.21875 45.40625 46.390625 \nL 45.40625 54.6875 \nL 54.390625 54.6875 \nz\n\" id=\"DejaVuSans-103\"/>\n        <path d=\"M 50.984375 -16.609375 \nL 50.984375 -23.578125 \nL -0.984375 -23.578125 \nL -0.984375 -16.609375 \nz\n\" id=\"DejaVuSans-95\"/>\n        <path d=\"M 56.203125 29.59375 \nL 56.203125 25.203125 \nL 14.890625 25.203125 \nQ 15.484375 15.921875 20.484375 11.0625 \nQ 25.484375 6.203125 34.421875 6.203125 \nQ 39.59375 6.203125 44.453125 7.46875 \nQ 49.3125 8.734375 54.109375 11.28125 \nL 54.109375 2.78125 \nQ 49.265625 0.734375 44.1875 -0.34375 \nQ 39.109375 -1.421875 33.890625 -1.421875 \nQ 20.796875 -1.421875 13.15625 6.1875 \nQ 5.515625 13.8125 5.515625 26.8125 \nQ 5.515625 40.234375 12.765625 48.109375 \nQ 20.015625 56 32.328125 56 \nQ 43.359375 56 49.78125 48.890625 \nQ 56.203125 41.796875 56.203125 29.59375 \nz\nM 47.21875 32.234375 \nQ 47.125 39.59375 43.09375 43.984375 \nQ 39.0625 48.390625 32.421875 48.390625 \nQ 24.90625 48.390625 20.390625 44.140625 \nQ 15.875 39.890625 15.1875 32.171875 \nz\n\" id=\"DejaVuSans-101\"/>\n       </defs>\n       <use xlink:href=\"#DejaVuSans-108\"/>\n       <use x=\"27.783203\" xlink:href=\"#DejaVuSans-111\"/>\n       <use x=\"88.964844\" xlink:href=\"#DejaVuSans-103\"/>\n       <use x=\"152.441406\" xlink:href=\"#DejaVuSans-95\"/>\n       <use x=\"202.441406\" xlink:href=\"#DejaVuSans-114\"/>\n       <use x=\"241.304688\" xlink:href=\"#DejaVuSans-101\"/>\n       <use x=\"302.828125\" xlink:href=\"#DejaVuSans-103\"/>\n       <use x=\"366.304688\" xlink:href=\"#DejaVuSans-114\"/>\n      </g>\n     </g>\n    </g>\n    <g id=\"xtick_3\">\n     <g id=\"line2d_3\">\n      <g>\n       <use style=\"stroke:#000000;stroke-width:0.8;\" x=\"164.820876\" xlink:href=\"#m19740f9277\" y=\"206.230125\"/>\n      </g>\n     </g>\n     <g id=\"text_3\">\n      <!-- lin_regr -->\n      <g transform=\"translate(146.124782 220.828563)scale(0.1 -0.1)\">\n       <defs>\n        <path d=\"M 9.421875 54.6875 \nL 18.40625 54.6875 \nL 18.40625 0 \nL 9.421875 0 \nz\nM 9.421875 75.984375 \nL 18.40625 75.984375 \nL 18.40625 64.59375 \nL 9.421875 64.59375 \nz\n\" id=\"DejaVuSans-105\"/>\n        <path d=\"M 54.890625 33.015625 \nL 54.890625 0 \nL 45.90625 0 \nL 45.90625 32.71875 \nQ 45.90625 40.484375 42.875 44.328125 \nQ 39.84375 48.1875 33.796875 48.1875 \nQ 26.515625 48.1875 22.3125 43.546875 \nQ 18.109375 38.921875 18.109375 30.90625 \nL 18.109375 0 \nL 9.078125 0 \nL 9.078125 54.6875 \nL 18.109375 54.6875 \nL 18.109375 46.1875 \nQ 21.34375 51.125 25.703125 53.5625 \nQ 30.078125 56 35.796875 56 \nQ 45.21875 56 50.046875 50.171875 \nQ 54.890625 44.34375 54.890625 33.015625 \nz\n\" id=\"DejaVuSans-110\"/>\n       </defs>\n       <use xlink:href=\"#DejaVuSans-108\"/>\n       <use x=\"27.783203\" xlink:href=\"#DejaVuSans-105\"/>\n       <use x=\"55.566406\" xlink:href=\"#DejaVuSans-110\"/>\n       <use x=\"118.945312\" xlink:href=\"#DejaVuSans-95\"/>\n       <use x=\"168.945312\" xlink:href=\"#DejaVuSans-114\"/>\n       <use x=\"207.808594\" xlink:href=\"#DejaVuSans-101\"/>\n       <use x=\"269.332031\" xlink:href=\"#DejaVuSans-103\"/>\n       <use x=\"332.808594\" xlink:href=\"#DejaVuSans-114\"/>\n      </g>\n     </g>\n    </g>\n    <g id=\"xtick_4\">\n     <g id=\"line2d_4\">\n      <g>\n       <use style=\"stroke:#000000;stroke-width:0.8;\" x=\"208.636125\" xlink:href=\"#m19740f9277\" y=\"206.230125\"/>\n      </g>\n     </g>\n     <g id=\"text_4\">\n      <!-- knn -->\n      <g transform=\"translate(199.403313 220.828563)scale(0.1 -0.1)\">\n       <defs>\n        <path d=\"M 9.078125 75.984375 \nL 18.109375 75.984375 \nL 18.109375 31.109375 \nL 44.921875 54.6875 \nL 56.390625 54.6875 \nL 27.390625 29.109375 \nL 57.625 0 \nL 45.90625 0 \nL 18.109375 26.703125 \nL 18.109375 0 \nL 9.078125 0 \nz\n\" id=\"DejaVuSans-107\"/>\n       </defs>\n       <use xlink:href=\"#DejaVuSans-107\"/>\n       <use x=\"57.910156\" xlink:href=\"#DejaVuSans-110\"/>\n       <use x=\"121.289062\" xlink:href=\"#DejaVuSans-110\"/>\n      </g>\n     </g>\n    </g>\n    <g id=\"xtick_5\">\n     <g id=\"line2d_5\">\n      <g>\n       <use style=\"stroke:#000000;stroke-width:0.8;\" x=\"252.451375\" xlink:href=\"#m19740f9277\" y=\"206.230125\"/>\n      </g>\n     </g>\n     <g id=\"text_5\">\n      <!-- nn -->\n      <g transform=\"translate(246.113875 220.828563)scale(0.1 -0.1)\">\n       <use xlink:href=\"#DejaVuSans-110\"/>\n       <use x=\"63.378906\" xlink:href=\"#DejaVuSans-110\"/>\n      </g>\n     </g>\n    </g>\n    <g id=\"xtick_6\">\n     <g id=\"line2d_6\">\n      <g>\n       <use style=\"stroke:#000000;stroke-width:0.8;\" x=\"296.266624\" xlink:href=\"#m19740f9277\" y=\"206.230125\"/>\n      </g>\n     </g>\n     <g id=\"text_6\">\n      <!-- svm -->\n      <g transform=\"translate(285.832249 220.828563)scale(0.1 -0.1)\">\n       <defs>\n        <path d=\"M 44.28125 53.078125 \nL 44.28125 44.578125 \nQ 40.484375 46.53125 36.375 47.5 \nQ 32.28125 48.484375 27.875 48.484375 \nQ 21.1875 48.484375 17.84375 46.4375 \nQ 14.5 44.390625 14.5 40.28125 \nQ 14.5 37.15625 16.890625 35.375 \nQ 19.28125 33.59375 26.515625 31.984375 \nL 29.59375 31.296875 \nQ 39.15625 29.25 43.1875 25.515625 \nQ 47.21875 21.78125 47.21875 15.09375 \nQ 47.21875 7.46875 41.1875 3.015625 \nQ 35.15625 -1.421875 24.609375 -1.421875 \nQ 20.21875 -1.421875 15.453125 -0.5625 \nQ 10.6875 0.296875 5.421875 2 \nL 5.421875 11.28125 \nQ 10.40625 8.6875 15.234375 7.390625 \nQ 20.0625 6.109375 24.8125 6.109375 \nQ 31.15625 6.109375 34.5625 8.28125 \nQ 37.984375 10.453125 37.984375 14.40625 \nQ 37.984375 18.0625 35.515625 20.015625 \nQ 33.0625 21.96875 24.703125 23.78125 \nL 21.578125 24.515625 \nQ 13.234375 26.265625 9.515625 29.90625 \nQ 5.8125 33.546875 5.8125 39.890625 \nQ 5.8125 47.609375 11.28125 51.796875 \nQ 16.75 56 26.8125 56 \nQ 31.78125 56 36.171875 55.265625 \nQ 40.578125 54.546875 44.28125 53.078125 \nz\n\" id=\"DejaVuSans-115\"/>\n        <path d=\"M 2.984375 54.6875 \nL 12.5 54.6875 \nL 29.59375 8.796875 \nL 46.6875 54.6875 \nL 56.203125 54.6875 \nL 35.6875 0 \nL 23.484375 0 \nz\n\" id=\"DejaVuSans-118\"/>\n        <path d=\"M 52 44.1875 \nQ 55.375 50.25 60.0625 53.125 \nQ 64.75 56 71.09375 56 \nQ 79.640625 56 84.28125 50.015625 \nQ 88.921875 44.046875 88.921875 33.015625 \nL 88.921875 0 \nL 79.890625 0 \nL 79.890625 32.71875 \nQ 79.890625 40.578125 77.09375 44.375 \nQ 74.3125 48.1875 68.609375 48.1875 \nQ 61.625 48.1875 57.5625 43.546875 \nQ 53.515625 38.921875 53.515625 30.90625 \nL 53.515625 0 \nL 44.484375 0 \nL 44.484375 32.71875 \nQ 44.484375 40.625 41.703125 44.40625 \nQ 38.921875 48.1875 33.109375 48.1875 \nQ 26.21875 48.1875 22.15625 43.53125 \nQ 18.109375 38.875 18.109375 30.90625 \nL 18.109375 0 \nL 9.078125 0 \nL 9.078125 54.6875 \nL 18.109375 54.6875 \nL 18.109375 46.1875 \nQ 21.1875 51.21875 25.484375 53.609375 \nQ 29.78125 56 35.6875 56 \nQ 41.65625 56 45.828125 52.96875 \nQ 50 49.953125 52 44.1875 \nz\n\" id=\"DejaVuSans-109\"/>\n       </defs>\n       <use xlink:href=\"#DejaVuSans-115\"/>\n       <use x=\"52.099609\" xlink:href=\"#DejaVuSans-118\"/>\n       <use x=\"111.279297\" xlink:href=\"#DejaVuSans-109\"/>\n      </g>\n     </g>\n    </g>\n    <g id=\"xtick_7\">\n     <g id=\"line2d_7\">\n      <g>\n       <use style=\"stroke:#000000;stroke-width:0.8;\" x=\"340.081873\" xlink:href=\"#m19740f9277\" y=\"206.230125\"/>\n      </g>\n     </g>\n     <g id=\"text_7\">\n      <!-- bayes -->\n      <g transform=\"translate(325.202967 220.828563)scale(0.1 -0.1)\">\n       <defs>\n        <path d=\"M 48.6875 27.296875 \nQ 48.6875 37.203125 44.609375 42.84375 \nQ 40.53125 48.484375 33.40625 48.484375 \nQ 26.265625 48.484375 22.1875 42.84375 \nQ 18.109375 37.203125 18.109375 27.296875 \nQ 18.109375 17.390625 22.1875 11.75 \nQ 26.265625 6.109375 33.40625 6.109375 \nQ 40.53125 6.109375 44.609375 11.75 \nQ 48.6875 17.390625 48.6875 27.296875 \nz\nM 18.109375 46.390625 \nQ 20.953125 51.265625 25.265625 53.625 \nQ 29.59375 56 35.59375 56 \nQ 45.5625 56 51.78125 48.09375 \nQ 58.015625 40.1875 58.015625 27.296875 \nQ 58.015625 14.40625 51.78125 6.484375 \nQ 45.5625 -1.421875 35.59375 -1.421875 \nQ 29.59375 -1.421875 25.265625 0.953125 \nQ 20.953125 3.328125 18.109375 8.203125 \nL 18.109375 0 \nL 9.078125 0 \nL 9.078125 75.984375 \nL 18.109375 75.984375 \nz\n\" id=\"DejaVuSans-98\"/>\n        <path d=\"M 34.28125 27.484375 \nQ 23.390625 27.484375 19.1875 25 \nQ 14.984375 22.515625 14.984375 16.5 \nQ 14.984375 11.71875 18.140625 8.90625 \nQ 21.296875 6.109375 26.703125 6.109375 \nQ 34.1875 6.109375 38.703125 11.40625 \nQ 43.21875 16.703125 43.21875 25.484375 \nL 43.21875 27.484375 \nz\nM 52.203125 31.203125 \nL 52.203125 0 \nL 43.21875 0 \nL 43.21875 8.296875 \nQ 40.140625 3.328125 35.546875 0.953125 \nQ 30.953125 -1.421875 24.3125 -1.421875 \nQ 15.921875 -1.421875 10.953125 3.296875 \nQ 6 8.015625 6 15.921875 \nQ 6 25.140625 12.171875 29.828125 \nQ 18.359375 34.515625 30.609375 34.515625 \nL 43.21875 34.515625 \nL 43.21875 35.40625 \nQ 43.21875 41.609375 39.140625 45 \nQ 35.0625 48.390625 27.6875 48.390625 \nQ 23 48.390625 18.546875 47.265625 \nQ 14.109375 46.140625 10.015625 43.890625 \nL 10.015625 52.203125 \nQ 14.9375 54.109375 19.578125 55.046875 \nQ 24.21875 56 28.609375 56 \nQ 40.484375 56 46.34375 49.84375 \nQ 52.203125 43.703125 52.203125 31.203125 \nz\n\" id=\"DejaVuSans-97\"/>\n        <path d=\"M 32.171875 -5.078125 \nQ 28.375 -14.84375 24.75 -17.8125 \nQ 21.140625 -20.796875 15.09375 -20.796875 \nL 7.90625 -20.796875 \nL 7.90625 -13.28125 \nL 13.1875 -13.28125 \nQ 16.890625 -13.28125 18.9375 -11.515625 \nQ 21 -9.765625 23.484375 -3.21875 \nL 25.09375 0.875 \nL 2.984375 54.6875 \nL 12.5 54.6875 \nL 29.59375 11.921875 \nL 46.6875 54.6875 \nL 56.203125 54.6875 \nz\n\" id=\"DejaVuSans-121\"/>\n       </defs>\n       <use xlink:href=\"#DejaVuSans-98\"/>\n       <use x=\"63.476562\" xlink:href=\"#DejaVuSans-97\"/>\n       <use x=\"124.755859\" xlink:href=\"#DejaVuSans-121\"/>\n       <use x=\"183.935547\" xlink:href=\"#DejaVuSans-101\"/>\n       <use x=\"245.458984\" xlink:href=\"#DejaVuSans-115\"/>\n      </g>\n     </g>\n    </g>\n    <g id=\"xtick_8\">\n     <g id=\"line2d_8\">\n      <g>\n       <use style=\"stroke:#000000;stroke-width:0.8;\" x=\"383.897122\" xlink:href=\"#m19740f9277\" y=\"206.230125\"/>\n      </g>\n     </g>\n     <g id=\"text_8\">\n      <!-- clf -->\n      <g transform=\"translate(377.998685 220.828563)scale(0.1 -0.1)\">\n       <defs>\n        <path d=\"M 48.78125 52.59375 \nL 48.78125 44.1875 \nQ 44.96875 46.296875 41.140625 47.34375 \nQ 37.3125 48.390625 33.40625 48.390625 \nQ 24.65625 48.390625 19.8125 42.84375 \nQ 14.984375 37.3125 14.984375 27.296875 \nQ 14.984375 17.28125 19.8125 11.734375 \nQ 24.65625 6.203125 33.40625 6.203125 \nQ 37.3125 6.203125 41.140625 7.25 \nQ 44.96875 8.296875 48.78125 10.40625 \nL 48.78125 2.09375 \nQ 45.015625 0.34375 40.984375 -0.53125 \nQ 36.96875 -1.421875 32.421875 -1.421875 \nQ 20.0625 -1.421875 12.78125 6.34375 \nQ 5.515625 14.109375 5.515625 27.296875 \nQ 5.515625 40.671875 12.859375 48.328125 \nQ 20.21875 56 33.015625 56 \nQ 37.15625 56 41.109375 55.140625 \nQ 45.0625 54.296875 48.78125 52.59375 \nz\n\" id=\"DejaVuSans-99\"/>\n       </defs>\n       <use xlink:href=\"#DejaVuSans-99\"/>\n       <use x=\"54.980469\" xlink:href=\"#DejaVuSans-108\"/>\n       <use x=\"82.763672\" xlink:href=\"#DejaVuSans-102\"/>\n      </g>\n     </g>\n    </g>\n    <g id=\"text_9\">\n     <!-- Algorithms -->\n     <g transform=\"translate(203.452344 234.784813)scale(0.1 -0.1)\">\n      <defs>\n       <path d=\"M 34.1875 63.1875 \nL 20.796875 26.90625 \nL 47.609375 26.90625 \nz\nM 28.609375 72.90625 \nL 39.796875 72.90625 \nL 67.578125 0 \nL 57.328125 0 \nL 50.6875 18.703125 \nL 17.828125 18.703125 \nL 11.1875 0 \nL 0.78125 0 \nz\n\" id=\"DejaVuSans-65\"/>\n       <path d=\"M 18.3125 70.21875 \nL 18.3125 54.6875 \nL 36.8125 54.6875 \nL 36.8125 47.703125 \nL 18.3125 47.703125 \nL 18.3125 18.015625 \nQ 18.3125 11.328125 20.140625 9.421875 \nQ 21.96875 7.515625 27.59375 7.515625 \nL 36.8125 7.515625 \nL 36.8125 0 \nL 27.59375 0 \nQ 17.1875 0 13.234375 3.875 \nQ 9.28125 7.765625 9.28125 18.015625 \nL 9.28125 47.703125 \nL 2.6875 47.703125 \nL 2.6875 54.6875 \nL 9.28125 54.6875 \nL 9.28125 70.21875 \nz\n\" id=\"DejaVuSans-116\"/>\n       <path d=\"M 54.890625 33.015625 \nL 54.890625 0 \nL 45.90625 0 \nL 45.90625 32.71875 \nQ 45.90625 40.484375 42.875 44.328125 \nQ 39.84375 48.1875 33.796875 48.1875 \nQ 26.515625 48.1875 22.3125 43.546875 \nQ 18.109375 38.921875 18.109375 30.90625 \nL 18.109375 0 \nL 9.078125 0 \nL 9.078125 75.984375 \nL 18.109375 75.984375 \nL 18.109375 46.1875 \nQ 21.34375 51.125 25.703125 53.5625 \nQ 30.078125 56 35.796875 56 \nQ 45.21875 56 50.046875 50.171875 \nQ 54.890625 44.34375 54.890625 33.015625 \nz\n\" id=\"DejaVuSans-104\"/>\n      </defs>\n      <use xlink:href=\"#DejaVuSans-65\"/>\n      <use x=\"68.408203\" xlink:href=\"#DejaVuSans-108\"/>\n      <use x=\"96.191406\" xlink:href=\"#DejaVuSans-103\"/>\n      <use x=\"159.667969\" xlink:href=\"#DejaVuSans-111\"/>\n      <use x=\"220.849609\" xlink:href=\"#DejaVuSans-114\"/>\n      <use x=\"261.962891\" xlink:href=\"#DejaVuSans-105\"/>\n      <use x=\"289.746094\" xlink:href=\"#DejaVuSans-116\"/>\n      <use x=\"328.955078\" xlink:href=\"#DejaVuSans-104\"/>\n      <use x=\"392.333984\" xlink:href=\"#DejaVuSans-109\"/>\n      <use x=\"489.746094\" xlink:href=\"#DejaVuSans-115\"/>\n     </g>\n    </g>\n   </g>\n   <g id=\"matplotlib.axis_2\">\n    <g id=\"ytick_1\">\n     <g id=\"line2d_9\">\n      <defs>\n       <path d=\"M 0 0 \nL -3.5 0 \n\" id=\"m5823b36425\" style=\"stroke:#000000;stroke-width:0.8;\"/>\n      </defs>\n      <g>\n       <use style=\"stroke:#000000;stroke-width:0.8;\" x=\"43.78125\" xlink:href=\"#m5823b36425\" y=\"206.230125\"/>\n      </g>\n     </g>\n     <g id=\"text_10\">\n      <!-- 0.0 -->\n      <g transform=\"translate(20.878125 210.029344)scale(0.1 -0.1)\">\n       <defs>\n        <path d=\"M 31.78125 66.40625 \nQ 24.171875 66.40625 20.328125 58.90625 \nQ 16.5 51.421875 16.5 36.375 \nQ 16.5 21.390625 20.328125 13.890625 \nQ 24.171875 6.390625 31.78125 6.390625 \nQ 39.453125 6.390625 43.28125 13.890625 \nQ 47.125 21.390625 47.125 36.375 \nQ 47.125 51.421875 43.28125 58.90625 \nQ 39.453125 66.40625 31.78125 66.40625 \nz\nM 31.78125 74.21875 \nQ 44.046875 74.21875 50.515625 64.515625 \nQ 56.984375 54.828125 56.984375 36.375 \nQ 56.984375 17.96875 50.515625 8.265625 \nQ 44.046875 -1.421875 31.78125 -1.421875 \nQ 19.53125 -1.421875 13.0625 8.265625 \nQ 6.59375 17.96875 6.59375 36.375 \nQ 6.59375 54.828125 13.0625 64.515625 \nQ 19.53125 74.21875 31.78125 74.21875 \nz\n\" id=\"DejaVuSans-48\"/>\n        <path d=\"M 10.6875 12.40625 \nL 21 12.40625 \nL 21 0 \nL 10.6875 0 \nz\n\" id=\"DejaVuSans-46\"/>\n       </defs>\n       <use xlink:href=\"#DejaVuSans-48\"/>\n       <use x=\"63.623047\" xlink:href=\"#DejaVuSans-46\"/>\n       <use x=\"95.410156\" xlink:href=\"#DejaVuSans-48\"/>\n      </g>\n     </g>\n    </g>\n    <g id=\"ytick_2\">\n     <g id=\"line2d_10\">\n      <g>\n       <use style=\"stroke:#000000;stroke-width:0.8;\" x=\"43.78125\" xlink:href=\"#m5823b36425\" y=\"171.199268\"/>\n      </g>\n     </g>\n     <g id=\"text_11\">\n      <!-- 0.2 -->\n      <g transform=\"translate(20.878125 174.998487)scale(0.1 -0.1)\">\n       <defs>\n        <path d=\"M 19.1875 8.296875 \nL 53.609375 8.296875 \nL 53.609375 0 \nL 7.328125 0 \nL 7.328125 8.296875 \nQ 12.9375 14.109375 22.625 23.890625 \nQ 32.328125 33.6875 34.8125 36.53125 \nQ 39.546875 41.84375 41.421875 45.53125 \nQ 43.3125 49.21875 43.3125 52.78125 \nQ 43.3125 58.59375 39.234375 62.25 \nQ 35.15625 65.921875 28.609375 65.921875 \nQ 23.96875 65.921875 18.8125 64.3125 \nQ 13.671875 62.703125 7.8125 59.421875 \nL 7.8125 69.390625 \nQ 13.765625 71.78125 18.9375 73 \nQ 24.125 74.21875 28.421875 74.21875 \nQ 39.75 74.21875 46.484375 68.546875 \nQ 53.21875 62.890625 53.21875 53.421875 \nQ 53.21875 48.921875 51.53125 44.890625 \nQ 49.859375 40.875 45.40625 35.40625 \nQ 44.1875 33.984375 37.640625 27.21875 \nQ 31.109375 20.453125 19.1875 8.296875 \nz\n\" id=\"DejaVuSans-50\"/>\n       </defs>\n       <use xlink:href=\"#DejaVuSans-48\"/>\n       <use x=\"63.623047\" xlink:href=\"#DejaVuSans-46\"/>\n       <use x=\"95.410156\" xlink:href=\"#DejaVuSans-50\"/>\n      </g>\n     </g>\n    </g>\n    <g id=\"ytick_3\">\n     <g id=\"line2d_11\">\n      <g>\n       <use style=\"stroke:#000000;stroke-width:0.8;\" x=\"43.78125\" xlink:href=\"#m5823b36425\" y=\"136.168411\"/>\n      </g>\n     </g>\n     <g id=\"text_12\">\n      <!-- 0.4 -->\n      <g transform=\"translate(20.878125 139.967629)scale(0.1 -0.1)\">\n       <defs>\n        <path d=\"M 37.796875 64.3125 \nL 12.890625 25.390625 \nL 37.796875 25.390625 \nz\nM 35.203125 72.90625 \nL 47.609375 72.90625 \nL 47.609375 25.390625 \nL 58.015625 25.390625 \nL 58.015625 17.1875 \nL 47.609375 17.1875 \nL 47.609375 0 \nL 37.796875 0 \nL 37.796875 17.1875 \nL 4.890625 17.1875 \nL 4.890625 26.703125 \nz\n\" id=\"DejaVuSans-52\"/>\n       </defs>\n       <use xlink:href=\"#DejaVuSans-48\"/>\n       <use x=\"63.623047\" xlink:href=\"#DejaVuSans-46\"/>\n       <use x=\"95.410156\" xlink:href=\"#DejaVuSans-52\"/>\n      </g>\n     </g>\n    </g>\n    <g id=\"ytick_4\">\n     <g id=\"line2d_12\">\n      <g>\n       <use style=\"stroke:#000000;stroke-width:0.8;\" x=\"43.78125\" xlink:href=\"#m5823b36425\" y=\"101.137554\"/>\n      </g>\n     </g>\n     <g id=\"text_13\">\n      <!-- 0.6 -->\n      <g transform=\"translate(20.878125 104.936772)scale(0.1 -0.1)\">\n       <defs>\n        <path d=\"M 33.015625 40.375 \nQ 26.375 40.375 22.484375 35.828125 \nQ 18.609375 31.296875 18.609375 23.390625 \nQ 18.609375 15.53125 22.484375 10.953125 \nQ 26.375 6.390625 33.015625 6.390625 \nQ 39.65625 6.390625 43.53125 10.953125 \nQ 47.40625 15.53125 47.40625 23.390625 \nQ 47.40625 31.296875 43.53125 35.828125 \nQ 39.65625 40.375 33.015625 40.375 \nz\nM 52.59375 71.296875 \nL 52.59375 62.3125 \nQ 48.875 64.0625 45.09375 64.984375 \nQ 41.3125 65.921875 37.59375 65.921875 \nQ 27.828125 65.921875 22.671875 59.328125 \nQ 17.53125 52.734375 16.796875 39.40625 \nQ 19.671875 43.65625 24.015625 45.921875 \nQ 28.375 48.1875 33.59375 48.1875 \nQ 44.578125 48.1875 50.953125 41.515625 \nQ 57.328125 34.859375 57.328125 23.390625 \nQ 57.328125 12.15625 50.6875 5.359375 \nQ 44.046875 -1.421875 33.015625 -1.421875 \nQ 20.359375 -1.421875 13.671875 8.265625 \nQ 6.984375 17.96875 6.984375 36.375 \nQ 6.984375 53.65625 15.1875 63.9375 \nQ 23.390625 74.21875 37.203125 74.21875 \nQ 40.921875 74.21875 44.703125 73.484375 \nQ 48.484375 72.75 52.59375 71.296875 \nz\n\" id=\"DejaVuSans-54\"/>\n       </defs>\n       <use xlink:href=\"#DejaVuSans-48\"/>\n       <use x=\"63.623047\" xlink:href=\"#DejaVuSans-46\"/>\n       <use x=\"95.410156\" xlink:href=\"#DejaVuSans-54\"/>\n      </g>\n     </g>\n    </g>\n    <g id=\"ytick_5\">\n     <g id=\"line2d_13\">\n      <g>\n       <use style=\"stroke:#000000;stroke-width:0.8;\" x=\"43.78125\" xlink:href=\"#m5823b36425\" y=\"66.106696\"/>\n      </g>\n     </g>\n     <g id=\"text_14\">\n      <!-- 0.8 -->\n      <g transform=\"translate(20.878125 69.905915)scale(0.1 -0.1)\">\n       <defs>\n        <path d=\"M 31.78125 34.625 \nQ 24.75 34.625 20.71875 30.859375 \nQ 16.703125 27.09375 16.703125 20.515625 \nQ 16.703125 13.921875 20.71875 10.15625 \nQ 24.75 6.390625 31.78125 6.390625 \nQ 38.8125 6.390625 42.859375 10.171875 \nQ 46.921875 13.96875 46.921875 20.515625 \nQ 46.921875 27.09375 42.890625 30.859375 \nQ 38.875 34.625 31.78125 34.625 \nz\nM 21.921875 38.8125 \nQ 15.578125 40.375 12.03125 44.71875 \nQ 8.5 49.078125 8.5 55.328125 \nQ 8.5 64.0625 14.71875 69.140625 \nQ 20.953125 74.21875 31.78125 74.21875 \nQ 42.671875 74.21875 48.875 69.140625 \nQ 55.078125 64.0625 55.078125 55.328125 \nQ 55.078125 49.078125 51.53125 44.71875 \nQ 48 40.375 41.703125 38.8125 \nQ 48.828125 37.15625 52.796875 32.3125 \nQ 56.78125 27.484375 56.78125 20.515625 \nQ 56.78125 9.90625 50.3125 4.234375 \nQ 43.84375 -1.421875 31.78125 -1.421875 \nQ 19.734375 -1.421875 13.25 4.234375 \nQ 6.78125 9.90625 6.78125 20.515625 \nQ 6.78125 27.484375 10.78125 32.3125 \nQ 14.796875 37.15625 21.921875 38.8125 \nz\nM 18.3125 54.390625 \nQ 18.3125 48.734375 21.84375 45.5625 \nQ 25.390625 42.390625 31.78125 42.390625 \nQ 38.140625 42.390625 41.71875 45.5625 \nQ 45.3125 48.734375 45.3125 54.390625 \nQ 45.3125 60.0625 41.71875 63.234375 \nQ 38.140625 66.40625 31.78125 66.40625 \nQ 25.390625 66.40625 21.84375 63.234375 \nQ 18.3125 60.0625 18.3125 54.390625 \nz\n\" id=\"DejaVuSans-56\"/>\n       </defs>\n       <use xlink:href=\"#DejaVuSans-48\"/>\n       <use x=\"63.623047\" xlink:href=\"#DejaVuSans-46\"/>\n       <use x=\"95.410156\" xlink:href=\"#DejaVuSans-56\"/>\n      </g>\n     </g>\n    </g>\n    <g id=\"ytick_6\">\n     <g id=\"line2d_14\">\n      <g>\n       <use style=\"stroke:#000000;stroke-width:0.8;\" x=\"43.78125\" xlink:href=\"#m5823b36425\" y=\"31.075839\"/>\n      </g>\n     </g>\n     <g id=\"text_15\">\n      <!-- 1.0 -->\n      <g transform=\"translate(20.878125 34.875058)scale(0.1 -0.1)\">\n       <defs>\n        <path d=\"M 12.40625 8.296875 \nL 28.515625 8.296875 \nL 28.515625 63.921875 \nL 10.984375 60.40625 \nL 10.984375 69.390625 \nL 28.421875 72.90625 \nL 38.28125 72.90625 \nL 38.28125 8.296875 \nL 54.390625 8.296875 \nL 54.390625 0 \nL 12.40625 0 \nz\n\" id=\"DejaVuSans-49\"/>\n       </defs>\n       <use xlink:href=\"#DejaVuSans-49\"/>\n       <use x=\"63.623047\" xlink:href=\"#DejaVuSans-46\"/>\n       <use x=\"95.410156\" xlink:href=\"#DejaVuSans-48\"/>\n      </g>\n     </g>\n    </g>\n    <g id=\"text_16\">\n     <!-- Result -->\n     <g transform=\"translate(14.798438 129.722563)rotate(-90)scale(0.1 -0.1)\">\n      <defs>\n       <path d=\"M 44.390625 34.1875 \nQ 47.5625 33.109375 50.5625 29.59375 \nQ 53.5625 26.078125 56.59375 19.921875 \nL 66.609375 0 \nL 56 0 \nL 46.6875 18.703125 \nQ 43.0625 26.03125 39.671875 28.421875 \nQ 36.28125 30.8125 30.421875 30.8125 \nL 19.671875 30.8125 \nL 19.671875 0 \nL 9.8125 0 \nL 9.8125 72.90625 \nL 32.078125 72.90625 \nQ 44.578125 72.90625 50.734375 67.671875 \nQ 56.890625 62.453125 56.890625 51.90625 \nQ 56.890625 45.015625 53.6875 40.46875 \nQ 50.484375 35.9375 44.390625 34.1875 \nz\nM 19.671875 64.796875 \nL 19.671875 38.921875 \nL 32.078125 38.921875 \nQ 39.203125 38.921875 42.84375 42.21875 \nQ 46.484375 45.515625 46.484375 51.90625 \nQ 46.484375 58.296875 42.84375 61.546875 \nQ 39.203125 64.796875 32.078125 64.796875 \nz\n\" id=\"DejaVuSans-82\"/>\n       <path d=\"M 8.5 21.578125 \nL 8.5 54.6875 \nL 17.484375 54.6875 \nL 17.484375 21.921875 \nQ 17.484375 14.15625 20.5 10.265625 \nQ 23.53125 6.390625 29.59375 6.390625 \nQ 36.859375 6.390625 41.078125 11.03125 \nQ 45.3125 15.671875 45.3125 23.6875 \nL 45.3125 54.6875 \nL 54.296875 54.6875 \nL 54.296875 0 \nL 45.3125 0 \nL 45.3125 8.40625 \nQ 42.046875 3.421875 37.71875 1 \nQ 33.40625 -1.421875 27.6875 -1.421875 \nQ 18.265625 -1.421875 13.375 4.4375 \nQ 8.5 10.296875 8.5 21.578125 \nz\nM 31.109375 56 \nz\n\" id=\"DejaVuSans-117\"/>\n      </defs>\n      <use xlink:href=\"#DejaVuSans-82\"/>\n      <use x=\"64.982422\" xlink:href=\"#DejaVuSans-101\"/>\n      <use x=\"126.505859\" xlink:href=\"#DejaVuSans-115\"/>\n      <use x=\"178.605469\" xlink:href=\"#DejaVuSans-117\"/>\n      <use x=\"241.984375\" xlink:href=\"#DejaVuSans-108\"/>\n      <use x=\"269.767578\" xlink:href=\"#DejaVuSans-116\"/>\n     </g>\n    </g>\n   </g>\n   <g id=\"patch_27\">\n    <path d=\"M 43.78125 206.230125 \nL 43.78125 22.318125 \n\" style=\"fill:none;stroke:#000000;stroke-linecap:square;stroke-linejoin:miter;stroke-width:0.8;\"/>\n   </g>\n   <g id=\"patch_28\">\n    <path d=\"M 417.30625 206.230125 \nL 417.30625 22.318125 \n\" style=\"fill:none;stroke:#000000;stroke-linecap:square;stroke-linejoin:miter;stroke-width:0.8;\"/>\n   </g>\n   <g id=\"patch_29\">\n    <path d=\"M 43.78125 206.230125 \nL 417.30625 206.230125 \n\" style=\"fill:none;stroke:#000000;stroke-linecap:square;stroke-linejoin:miter;stroke-width:0.8;\"/>\n   </g>\n   <g id=\"patch_30\">\n    <path d=\"M 43.78125 22.318125 \nL 417.30625 22.318125 \n\" style=\"fill:none;stroke:#000000;stroke-linecap:square;stroke-linejoin:miter;stroke-width:0.8;\"/>\n   </g>\n   <g id=\"text_17\">\n    <!-- Precision, Recall and accuracy Results -->\n    <g transform=\"translate(116.316875 16.318125)scale(0.12 -0.12)\">\n     <defs>\n      <path d=\"M 19.671875 64.796875 \nL 19.671875 37.40625 \nL 32.078125 37.40625 \nQ 38.96875 37.40625 42.71875 40.96875 \nQ 46.484375 44.53125 46.484375 51.125 \nQ 46.484375 57.671875 42.71875 61.234375 \nQ 38.96875 64.796875 32.078125 64.796875 \nz\nM 9.8125 72.90625 \nL 32.078125 72.90625 \nQ 44.34375 72.90625 50.609375 67.359375 \nQ 56.890625 61.8125 56.890625 51.125 \nQ 56.890625 40.328125 50.609375 34.8125 \nQ 44.34375 29.296875 32.078125 29.296875 \nL 19.671875 29.296875 \nL 19.671875 0 \nL 9.8125 0 \nz\n\" id=\"DejaVuSans-80\"/>\n      <path d=\"M 11.71875 12.40625 \nL 22.015625 12.40625 \nL 22.015625 4 \nL 14.015625 -11.625 \nL 7.71875 -11.625 \nL 11.71875 4 \nz\n\" id=\"DejaVuSans-44\"/>\n      <path id=\"DejaVuSans-32\"/>\n      <path d=\"M 45.40625 46.390625 \nL 45.40625 75.984375 \nL 54.390625 75.984375 \nL 54.390625 0 \nL 45.40625 0 \nL 45.40625 8.203125 \nQ 42.578125 3.328125 38.25 0.953125 \nQ 33.9375 -1.421875 27.875 -1.421875 \nQ 17.96875 -1.421875 11.734375 6.484375 \nQ 5.515625 14.40625 5.515625 27.296875 \nQ 5.515625 40.1875 11.734375 48.09375 \nQ 17.96875 56 27.875 56 \nQ 33.9375 56 38.25 53.625 \nQ 42.578125 51.265625 45.40625 46.390625 \nz\nM 14.796875 27.296875 \nQ 14.796875 17.390625 18.875 11.75 \nQ 22.953125 6.109375 30.078125 6.109375 \nQ 37.203125 6.109375 41.296875 11.75 \nQ 45.40625 17.390625 45.40625 27.296875 \nQ 45.40625 37.203125 41.296875 42.84375 \nQ 37.203125 48.484375 30.078125 48.484375 \nQ 22.953125 48.484375 18.875 42.84375 \nQ 14.796875 37.203125 14.796875 27.296875 \nz\n\" id=\"DejaVuSans-100\"/>\n     </defs>\n     <use xlink:href=\"#DejaVuSans-80\"/>\n     <use x=\"58.552734\" xlink:href=\"#DejaVuSans-114\"/>\n     <use x=\"97.416016\" xlink:href=\"#DejaVuSans-101\"/>\n     <use x=\"158.939453\" xlink:href=\"#DejaVuSans-99\"/>\n     <use x=\"213.919922\" xlink:href=\"#DejaVuSans-105\"/>\n     <use x=\"241.703125\" xlink:href=\"#DejaVuSans-115\"/>\n     <use x=\"293.802734\" xlink:href=\"#DejaVuSans-105\"/>\n     <use x=\"321.585938\" xlink:href=\"#DejaVuSans-111\"/>\n     <use x=\"382.767578\" xlink:href=\"#DejaVuSans-110\"/>\n     <use x=\"446.146484\" xlink:href=\"#DejaVuSans-44\"/>\n     <use x=\"477.933594\" xlink:href=\"#DejaVuSans-32\"/>\n     <use x=\"509.720703\" xlink:href=\"#DejaVuSans-82\"/>\n     <use x=\"574.703125\" xlink:href=\"#DejaVuSans-101\"/>\n     <use x=\"636.226562\" xlink:href=\"#DejaVuSans-99\"/>\n     <use x=\"691.207031\" xlink:href=\"#DejaVuSans-97\"/>\n     <use x=\"752.486328\" xlink:href=\"#DejaVuSans-108\"/>\n     <use x=\"780.269531\" xlink:href=\"#DejaVuSans-108\"/>\n     <use x=\"808.052734\" xlink:href=\"#DejaVuSans-32\"/>\n     <use x=\"839.839844\" xlink:href=\"#DejaVuSans-97\"/>\n     <use x=\"901.119141\" xlink:href=\"#DejaVuSans-110\"/>\n     <use x=\"964.498047\" xlink:href=\"#DejaVuSans-100\"/>\n     <use x=\"1027.974609\" xlink:href=\"#DejaVuSans-32\"/>\n     <use x=\"1059.761719\" xlink:href=\"#DejaVuSans-97\"/>\n     <use x=\"1121.041016\" xlink:href=\"#DejaVuSans-99\"/>\n     <use x=\"1176.021484\" xlink:href=\"#DejaVuSans-99\"/>\n     <use x=\"1231.001953\" xlink:href=\"#DejaVuSans-117\"/>\n     <use x=\"1294.380859\" xlink:href=\"#DejaVuSans-114\"/>\n     <use x=\"1335.494141\" xlink:href=\"#DejaVuSans-97\"/>\n     <use x=\"1396.773438\" xlink:href=\"#DejaVuSans-99\"/>\n     <use x=\"1451.753906\" xlink:href=\"#DejaVuSans-121\"/>\n     <use x=\"1510.933594\" xlink:href=\"#DejaVuSans-32\"/>\n     <use x=\"1542.720703\" xlink:href=\"#DejaVuSans-82\"/>\n     <use x=\"1607.703125\" xlink:href=\"#DejaVuSans-101\"/>\n     <use x=\"1669.226562\" xlink:href=\"#DejaVuSans-115\"/>\n     <use x=\"1721.326172\" xlink:href=\"#DejaVuSans-117\"/>\n     <use x=\"1784.705078\" xlink:href=\"#DejaVuSans-108\"/>\n     <use x=\"1812.488281\" xlink:href=\"#DejaVuSans-116\"/>\n     <use x=\"1851.697266\" xlink:href=\"#DejaVuSans-115\"/>\n    </g>\n   </g>\n   <g id=\"legend_1\">\n    <g id=\"patch_31\">\n     <path d=\"M 106.491406 265.69065 \nL 354.596094 265.69065 \nQ 356.596094 265.69065 356.596094 263.69065 \nL 356.596094 250.012525 \nQ 356.596094 248.012525 354.596094 248.012525 \nL 106.491406 248.012525 \nQ 104.491406 248.012525 104.491406 250.012525 \nL 104.491406 263.69065 \nQ 104.491406 265.69065 106.491406 265.69065 \nz\n\" style=\"fill:#ffffff;opacity:0.8;stroke:#cccccc;stroke-linejoin:miter;\"/>\n    </g>\n    <g id=\"patch_32\">\n     <path d=\"M 108.491406 259.610963 \nL 128.491406 259.610963 \nL 128.491406 252.610963 \nL 108.491406 252.610963 \nz\n\" style=\"fill:#1f77b4;\"/>\n    </g>\n    <g id=\"text_18\">\n     <!-- Accuracy -->\n     <g transform=\"translate(136.491406 259.610963)scale(0.1 -0.1)\">\n      <use xlink:href=\"#DejaVuSans-65\"/>\n      <use x=\"66.658203\" xlink:href=\"#DejaVuSans-99\"/>\n      <use x=\"121.638672\" xlink:href=\"#DejaVuSans-99\"/>\n      <use x=\"176.619141\" xlink:href=\"#DejaVuSans-117\"/>\n      <use x=\"239.998047\" xlink:href=\"#DejaVuSans-114\"/>\n      <use x=\"281.111328\" xlink:href=\"#DejaVuSans-97\"/>\n      <use x=\"342.390625\" xlink:href=\"#DejaVuSans-99\"/>\n      <use x=\"397.371094\" xlink:href=\"#DejaVuSans-121\"/>\n     </g>\n    </g>\n    <g id=\"patch_33\">\n     <path d=\"M 202.147656 259.610963 \nL 222.147656 259.610963 \nL 222.147656 252.610963 \nL 202.147656 252.610963 \nz\n\" style=\"fill:#ff7f0e;\"/>\n    </g>\n    <g id=\"text_19\">\n     <!-- Recall -->\n     <g transform=\"translate(230.147656 259.610963)scale(0.1 -0.1)\">\n      <use xlink:href=\"#DejaVuSans-82\"/>\n      <use x=\"64.982422\" xlink:href=\"#DejaVuSans-101\"/>\n      <use x=\"126.505859\" xlink:href=\"#DejaVuSans-99\"/>\n      <use x=\"181.486328\" xlink:href=\"#DejaVuSans-97\"/>\n      <use x=\"242.765625\" xlink:href=\"#DejaVuSans-108\"/>\n      <use x=\"270.548828\" xlink:href=\"#DejaVuSans-108\"/>\n     </g>\n    </g>\n    <g id=\"patch_34\">\n     <path d=\"M 279.982031 259.610963 \nL 299.982031 259.610963 \nL 299.982031 252.610963 \nL 279.982031 252.610963 \nz\n\" style=\"fill:#2ca02c;\"/>\n    </g>\n    <g id=\"text_20\">\n     <!-- Precision -->\n     <g transform=\"translate(307.982031 259.610963)scale(0.1 -0.1)\">\n      <use xlink:href=\"#DejaVuSans-80\"/>\n      <use x=\"58.552734\" xlink:href=\"#DejaVuSans-114\"/>\n      <use x=\"97.416016\" xlink:href=\"#DejaVuSans-101\"/>\n      <use x=\"158.939453\" xlink:href=\"#DejaVuSans-99\"/>\n      <use x=\"213.919922\" xlink:href=\"#DejaVuSans-105\"/>\n      <use x=\"241.703125\" xlink:href=\"#DejaVuSans-115\"/>\n      <use x=\"293.802734\" xlink:href=\"#DejaVuSans-105\"/>\n      <use x=\"321.585938\" xlink:href=\"#DejaVuSans-111\"/>\n      <use x=\"382.767578\" xlink:href=\"#DejaVuSans-110\"/>\n     </g>\n    </g>\n   </g>\n  </g>\n </g>\n <defs>\n  <clipPath id=\"p31aec31fbf\">\n   <rect height=\"183.912\" width=\"373.525\" x=\"43.78125\" y=\"22.318125\"/>\n  </clipPath>\n </defs>\n</svg>\n",
      "image/png": "[encoded data removed]"
     },
     "metadata": {
      "needs_background": "light"
     }
    }
   ],
   "source": [
    "#PRINT RESULT DATAFRAME\n",
    "#print(df_test[['gadget_id', 'measurement_time'] + cols + models].head(5))\n",
    "\n",
    "#CREATE IMAGE FOR MODEL COMPARISON\n",
    "df_summary = pd.DataFrame(model_summary)\n",
    "\n",
    "x = np.arange(len(df_summary['model']))\n",
    "width = 0.25\n",
    "\n",
    "fig, ax = plt.subplots()\n",
    "rects1 = ax.bar(x - width, df_summary['accuracy'], width, label='Accuracy')\n",
    "rects2 = ax.bar(x , df_summary['recall'], width, label='Recall')\n",
    "rects3 = ax.bar(x + width, df_summary['precision'], width, label='Precision')\n",
    "# rects4 = ax.bar(x + width, df_summary['auc'], width, label='auc')\n",
    "\n",
    "# Add some text for labels, title and custom x-axis tick labels, etc.\n",
    "ax.set_ylabel('Result')\n",
    "ax.set_xlabel('Algorithms')\n",
    "ax.set_title('Precision, Recall and accuracy Results')\n",
    "ax.set_xticks(x)\n",
    "ax.set_xticklabels(df_summary['model'])\n",
    "ax.legend(bbox_to_anchor=(0.5, -0.2), loc='upper center', ncol = 3)\n",
    "\n",
    "fig.tight_layout()\n",
    "\n",
    "plt.savefig('../../img/results.png')"
   ]
  },
  {
   "cell_type": "code",
   "execution_count": 39,
   "metadata": {},
   "outputs": [
    {
     "output_type": "display_data",
     "data": {
      "text/plain": "<Figure size 432x288 with 1 Axes>",
      "image/svg+xml": "<?xml version=\"1.0\" encoding=\"utf-8\" standalone=\"no\"?>\n<!DOCTYPE svg PUBLIC \"-//W3C//DTD SVG 1.1//EN\"\n  \"http://www.w3.org/Graphics/SVG/1.1/DTD/svg11.dtd\">\n<!-- Created with matplotlib (https://matplotlib.org/) -->\n<svg height=\"278.64625pt\" version=\"1.1\" viewBox=\"0 0 424.50625 278.64625\" width=\"424.50625pt\" xmlns=\"http://www.w3.org/2000/svg\" xmlns:xlink=\"http://www.w3.org/1999/xlink\">\n <metadata>\n  <rdf:RDF xmlns:cc=\"http://creativecommons.org/ns#\" xmlns:dc=\"http://purl.org/dc/elements/1.1/\" xmlns:rdf=\"http://www.w3.org/1999/02/22-rdf-syntax-ns#\">\n   <cc:Work>\n    <dc:type rdf:resource=\"http://purl.org/dc/dcmitype/StillImage\"/>\n    <dc:date>2021-05-25T01:05:20.735167</dc:date>\n    <dc:format>image/svg+xml</dc:format>\n    <dc:creator>\n     <cc:Agent>\n      <dc:title>Matplotlib v3.3.4, https://matplotlib.org/</dc:title>\n     </cc:Agent>\n    </dc:creator>\n   </cc:Work>\n  </rdf:RDF>\n </metadata>\n <defs>\n  <style type=\"text/css\">*{stroke-linecap:butt;stroke-linejoin:round;}</style>\n </defs>\n <g id=\"figure_1\">\n  <g id=\"patch_1\">\n   <path d=\"M 0 278.64625 \nL 424.50625 278.64625 \nL 424.50625 0 \nL 0 0 \nz\n\" style=\"fill:none;\"/>\n  </g>\n  <g id=\"axes_1\">\n   <g id=\"patch_2\">\n    <path d=\"M 43.78125 240.811875 \nL 417.30625 240.811875 \nL 417.30625 22.318125 \nL 43.78125 22.318125 \nz\n\" style=\"fill:#ffffff;\"/>\n   </g>\n   <g id=\"patch_3\">\n    <path clip-path=\"url(#p8b4588edcb)\" d=\"M 60.759659 240.811875 \nL 79.114696 240.811875 \nL 79.114696 32.722589 \nL 60.759659 32.722589 \nz\n\" style=\"fill:#1f77b4;\"/>\n   </g>\n   <g id=\"patch_4\">\n    <path clip-path=\"url(#p8b4588edcb)\" d=\"M 106.647251 240.811875 \nL 125.002288 240.811875 \nL 125.002288 39.714028 \nL 106.647251 39.714028 \nz\n\" style=\"fill:#1f77b4;\"/>\n   </g>\n   <g id=\"patch_5\">\n    <path clip-path=\"url(#p8b4588edcb)\" d=\"M 152.534843 240.811875 \nL 170.88988 240.811875 \nL 170.88988 122.533765 \nL 152.534843 122.533765 \nz\n\" style=\"fill:#1f77b4;\"/>\n   </g>\n   <g id=\"patch_6\">\n    <path clip-path=\"url(#p8b4588edcb)\" d=\"M 198.422436 240.811875 \nL 216.777472 240.811875 \nL 216.777472 117.146096 \nL 198.422436 117.146096 \nz\n\" style=\"fill:#1f77b4;\"/>\n   </g>\n   <g id=\"patch_7\">\n    <path clip-path=\"url(#p8b4588edcb)\" d=\"M 244.310028 240.811875 \nL 262.665064 240.811875 \nL 262.665064 110.5556 \nL 244.310028 110.5556 \nz\n\" style=\"fill:#1f77b4;\"/>\n   </g>\n   <g id=\"patch_8\">\n    <path clip-path=\"url(#p8b4588edcb)\" d=\"M 290.19762 240.811875 \nL 308.552657 240.811875 \nL 308.552657 39.313086 \nL 290.19762 39.313086 \nz\n\" style=\"fill:#1f77b4;\"/>\n   </g>\n   <g id=\"patch_9\">\n    <path clip-path=\"url(#p8b4588edcb)\" d=\"M 336.085212 240.811875 \nL 354.440249 240.811875 \nL 354.440249 39.313086 \nL 336.085212 39.313086 \nz\n\" style=\"fill:#1f77b4;\"/>\n   </g>\n   <g id=\"patch_10\">\n    <path clip-path=\"url(#p8b4588edcb)\" d=\"M 381.972804 240.811875 \nL 400.327841 240.811875 \nL 400.327841 143.483023 \nL 381.972804 143.483023 \nz\n\" style=\"fill:#1f77b4;\"/>\n   </g>\n   <g id=\"matplotlib.axis_1\">\n    <g id=\"xtick_1\">\n     <g id=\"line2d_1\">\n      <defs>\n       <path d=\"M 0 0 \nL 0 3.5 \n\" id=\"me6854ecf8d\" style=\"stroke:#000000;stroke-width:0.8;\"/>\n      </defs>\n      <g>\n       <use style=\"stroke:#000000;stroke-width:0.8;\" x=\"69.937178\" xlink:href=\"#me6854ecf8d\" y=\"240.811875\"/>\n      </g>\n     </g>\n     <g id=\"text_1\">\n      <!-- rf -->\n      <g transform=\"translate(66.121553 255.410313)scale(0.1 -0.1)\">\n       <defs>\n        <path d=\"M 41.109375 46.296875 \nQ 39.59375 47.171875 37.8125 47.578125 \nQ 36.03125 48 33.890625 48 \nQ 26.265625 48 22.1875 43.046875 \nQ 18.109375 38.09375 18.109375 28.8125 \nL 18.109375 0 \nL 9.078125 0 \nL 9.078125 54.6875 \nL 18.109375 54.6875 \nL 18.109375 46.1875 \nQ 20.953125 51.171875 25.484375 53.578125 \nQ 30.03125 56 36.53125 56 \nQ 37.453125 56 38.578125 55.875 \nQ 39.703125 55.765625 41.0625 55.515625 \nz\n\" id=\"DejaVuSans-114\"/>\n        <path d=\"M 37.109375 75.984375 \nL 37.109375 68.5 \nL 28.515625 68.5 \nQ 23.6875 68.5 21.796875 66.546875 \nQ 19.921875 64.59375 19.921875 59.515625 \nL 19.921875 54.6875 \nL 34.71875 54.6875 \nL 34.71875 47.703125 \nL 19.921875 47.703125 \nL 19.921875 0 \nL 10.890625 0 \nL 10.890625 47.703125 \nL 2.296875 47.703125 \nL 2.296875 54.6875 \nL 10.890625 54.6875 \nL 10.890625 58.5 \nQ 10.890625 67.625 15.140625 71.796875 \nQ 19.390625 75.984375 28.609375 75.984375 \nz\n\" id=\"DejaVuSans-102\"/>\n       </defs>\n       <use xlink:href=\"#DejaVuSans-114\"/>\n       <use x=\"41.113281\" xlink:href=\"#DejaVuSans-102\"/>\n      </g>\n     </g>\n    </g>\n    <g id=\"xtick_2\">\n     <g id=\"line2d_2\">\n      <g>\n       <use style=\"stroke:#000000;stroke-width:0.8;\" x=\"115.82477\" xlink:href=\"#me6854ecf8d\" y=\"240.811875\"/>\n      </g>\n     </g>\n     <g id=\"text_2\">\n      <!-- log_regr -->\n      <g transform=\"translate(95.452895 255.410313)scale(0.1 -0.1)\">\n       <defs>\n        <path d=\"M 9.421875 75.984375 \nL 18.40625 75.984375 \nL 18.40625 0 \nL 9.421875 0 \nz\n\" id=\"DejaVuSans-108\"/>\n        <path d=\"M 30.609375 48.390625 \nQ 23.390625 48.390625 19.1875 42.75 \nQ 14.984375 37.109375 14.984375 27.296875 \nQ 14.984375 17.484375 19.15625 11.84375 \nQ 23.34375 6.203125 30.609375 6.203125 \nQ 37.796875 6.203125 41.984375 11.859375 \nQ 46.1875 17.53125 46.1875 27.296875 \nQ 46.1875 37.015625 41.984375 42.703125 \nQ 37.796875 48.390625 30.609375 48.390625 \nz\nM 30.609375 56 \nQ 42.328125 56 49.015625 48.375 \nQ 55.71875 40.765625 55.71875 27.296875 \nQ 55.71875 13.875 49.015625 6.21875 \nQ 42.328125 -1.421875 30.609375 -1.421875 \nQ 18.84375 -1.421875 12.171875 6.21875 \nQ 5.515625 13.875 5.515625 27.296875 \nQ 5.515625 40.765625 12.171875 48.375 \nQ 18.84375 56 30.609375 56 \nz\n\" id=\"DejaVuSans-111\"/>\n        <path d=\"M 45.40625 27.984375 \nQ 45.40625 37.75 41.375 43.109375 \nQ 37.359375 48.484375 30.078125 48.484375 \nQ 22.859375 48.484375 18.828125 43.109375 \nQ 14.796875 37.75 14.796875 27.984375 \nQ 14.796875 18.265625 18.828125 12.890625 \nQ 22.859375 7.515625 30.078125 7.515625 \nQ 37.359375 7.515625 41.375 12.890625 \nQ 45.40625 18.265625 45.40625 27.984375 \nz\nM 54.390625 6.78125 \nQ 54.390625 -7.171875 48.1875 -13.984375 \nQ 42 -20.796875 29.203125 -20.796875 \nQ 24.46875 -20.796875 20.265625 -20.09375 \nQ 16.0625 -19.390625 12.109375 -17.921875 \nL 12.109375 -9.1875 \nQ 16.0625 -11.328125 19.921875 -12.34375 \nQ 23.78125 -13.375 27.78125 -13.375 \nQ 36.625 -13.375 41.015625 -8.765625 \nQ 45.40625 -4.15625 45.40625 5.171875 \nL 45.40625 9.625 \nQ 42.625 4.78125 38.28125 2.390625 \nQ 33.9375 0 27.875 0 \nQ 17.828125 0 11.671875 7.65625 \nQ 5.515625 15.328125 5.515625 27.984375 \nQ 5.515625 40.671875 11.671875 48.328125 \nQ 17.828125 56 27.875 56 \nQ 33.9375 56 38.28125 53.609375 \nQ 42.625 51.21875 45.40625 46.390625 \nL 45.40625 54.6875 \nL 54.390625 54.6875 \nz\n\" id=\"DejaVuSans-103\"/>\n        <path d=\"M 50.984375 -16.609375 \nL 50.984375 -23.578125 \nL -0.984375 -23.578125 \nL -0.984375 -16.609375 \nz\n\" id=\"DejaVuSans-95\"/>\n        <path d=\"M 56.203125 29.59375 \nL 56.203125 25.203125 \nL 14.890625 25.203125 \nQ 15.484375 15.921875 20.484375 11.0625 \nQ 25.484375 6.203125 34.421875 6.203125 \nQ 39.59375 6.203125 44.453125 7.46875 \nQ 49.3125 8.734375 54.109375 11.28125 \nL 54.109375 2.78125 \nQ 49.265625 0.734375 44.1875 -0.34375 \nQ 39.109375 -1.421875 33.890625 -1.421875 \nQ 20.796875 -1.421875 13.15625 6.1875 \nQ 5.515625 13.8125 5.515625 26.8125 \nQ 5.515625 40.234375 12.765625 48.109375 \nQ 20.015625 56 32.328125 56 \nQ 43.359375 56 49.78125 48.890625 \nQ 56.203125 41.796875 56.203125 29.59375 \nz\nM 47.21875 32.234375 \nQ 47.125 39.59375 43.09375 43.984375 \nQ 39.0625 48.390625 32.421875 48.390625 \nQ 24.90625 48.390625 20.390625 44.140625 \nQ 15.875 39.890625 15.1875 32.171875 \nz\n\" id=\"DejaVuSans-101\"/>\n       </defs>\n       <use xlink:href=\"#DejaVuSans-108\"/>\n       <use x=\"27.783203\" xlink:href=\"#DejaVuSans-111\"/>\n       <use x=\"88.964844\" xlink:href=\"#DejaVuSans-103\"/>\n       <use x=\"152.441406\" xlink:href=\"#DejaVuSans-95\"/>\n       <use x=\"202.441406\" xlink:href=\"#DejaVuSans-114\"/>\n       <use x=\"241.304688\" xlink:href=\"#DejaVuSans-101\"/>\n       <use x=\"302.828125\" xlink:href=\"#DejaVuSans-103\"/>\n       <use x=\"366.304688\" xlink:href=\"#DejaVuSans-114\"/>\n      </g>\n     </g>\n    </g>\n    <g id=\"xtick_3\">\n     <g id=\"line2d_3\">\n      <g>\n       <use style=\"stroke:#000000;stroke-width:0.8;\" x=\"161.712362\" xlink:href=\"#me6854ecf8d\" y=\"240.811875\"/>\n      </g>\n     </g>\n     <g id=\"text_3\">\n      <!-- lin_regr -->\n      <g transform=\"translate(143.016268 255.410313)scale(0.1 -0.1)\">\n       <defs>\n        <path d=\"M 9.421875 54.6875 \nL 18.40625 54.6875 \nL 18.40625 0 \nL 9.421875 0 \nz\nM 9.421875 75.984375 \nL 18.40625 75.984375 \nL 18.40625 64.59375 \nL 9.421875 64.59375 \nz\n\" id=\"DejaVuSans-105\"/>\n        <path d=\"M 54.890625 33.015625 \nL 54.890625 0 \nL 45.90625 0 \nL 45.90625 32.71875 \nQ 45.90625 40.484375 42.875 44.328125 \nQ 39.84375 48.1875 33.796875 48.1875 \nQ 26.515625 48.1875 22.3125 43.546875 \nQ 18.109375 38.921875 18.109375 30.90625 \nL 18.109375 0 \nL 9.078125 0 \nL 9.078125 54.6875 \nL 18.109375 54.6875 \nL 18.109375 46.1875 \nQ 21.34375 51.125 25.703125 53.5625 \nQ 30.078125 56 35.796875 56 \nQ 45.21875 56 50.046875 50.171875 \nQ 54.890625 44.34375 54.890625 33.015625 \nz\n\" id=\"DejaVuSans-110\"/>\n       </defs>\n       <use xlink:href=\"#DejaVuSans-108\"/>\n       <use x=\"27.783203\" xlink:href=\"#DejaVuSans-105\"/>\n       <use x=\"55.566406\" xlink:href=\"#DejaVuSans-110\"/>\n       <use x=\"118.945312\" xlink:href=\"#DejaVuSans-95\"/>\n       <use x=\"168.945312\" xlink:href=\"#DejaVuSans-114\"/>\n       <use x=\"207.808594\" xlink:href=\"#DejaVuSans-101\"/>\n       <use x=\"269.332031\" xlink:href=\"#DejaVuSans-103\"/>\n       <use x=\"332.808594\" xlink:href=\"#DejaVuSans-114\"/>\n      </g>\n     </g>\n    </g>\n    <g id=\"xtick_4\">\n     <g id=\"line2d_4\">\n      <g>\n       <use style=\"stroke:#000000;stroke-width:0.8;\" x=\"207.599954\" xlink:href=\"#me6854ecf8d\" y=\"240.811875\"/>\n      </g>\n     </g>\n     <g id=\"text_4\">\n      <!-- knn -->\n      <g transform=\"translate(198.367141 255.410313)scale(0.1 -0.1)\">\n       <defs>\n        <path d=\"M 9.078125 75.984375 \nL 18.109375 75.984375 \nL 18.109375 31.109375 \nL 44.921875 54.6875 \nL 56.390625 54.6875 \nL 27.390625 29.109375 \nL 57.625 0 \nL 45.90625 0 \nL 18.109375 26.703125 \nL 18.109375 0 \nL 9.078125 0 \nz\n\" id=\"DejaVuSans-107\"/>\n       </defs>\n       <use xlink:href=\"#DejaVuSans-107\"/>\n       <use x=\"57.910156\" xlink:href=\"#DejaVuSans-110\"/>\n       <use x=\"121.289062\" xlink:href=\"#DejaVuSans-110\"/>\n      </g>\n     </g>\n    </g>\n    <g id=\"xtick_5\">\n     <g id=\"line2d_5\">\n      <g>\n       <use style=\"stroke:#000000;stroke-width:0.8;\" x=\"253.487546\" xlink:href=\"#me6854ecf8d\" y=\"240.811875\"/>\n      </g>\n     </g>\n     <g id=\"text_5\">\n      <!-- nn -->\n      <g transform=\"translate(247.150046 255.410313)scale(0.1 -0.1)\">\n       <use xlink:href=\"#DejaVuSans-110\"/>\n       <use x=\"63.378906\" xlink:href=\"#DejaVuSans-110\"/>\n      </g>\n     </g>\n    </g>\n    <g id=\"xtick_6\">\n     <g id=\"line2d_6\">\n      <g>\n       <use style=\"stroke:#000000;stroke-width:0.8;\" x=\"299.375138\" xlink:href=\"#me6854ecf8d\" y=\"240.811875\"/>\n      </g>\n     </g>\n     <g id=\"text_6\">\n      <!-- svm -->\n      <g transform=\"translate(288.940763 255.410313)scale(0.1 -0.1)\">\n       <defs>\n        <path d=\"M 44.28125 53.078125 \nL 44.28125 44.578125 \nQ 40.484375 46.53125 36.375 47.5 \nQ 32.28125 48.484375 27.875 48.484375 \nQ 21.1875 48.484375 17.84375 46.4375 \nQ 14.5 44.390625 14.5 40.28125 \nQ 14.5 37.15625 16.890625 35.375 \nQ 19.28125 33.59375 26.515625 31.984375 \nL 29.59375 31.296875 \nQ 39.15625 29.25 43.1875 25.515625 \nQ 47.21875 21.78125 47.21875 15.09375 \nQ 47.21875 7.46875 41.1875 3.015625 \nQ 35.15625 -1.421875 24.609375 -1.421875 \nQ 20.21875 -1.421875 15.453125 -0.5625 \nQ 10.6875 0.296875 5.421875 2 \nL 5.421875 11.28125 \nQ 10.40625 8.6875 15.234375 7.390625 \nQ 20.0625 6.109375 24.8125 6.109375 \nQ 31.15625 6.109375 34.5625 8.28125 \nQ 37.984375 10.453125 37.984375 14.40625 \nQ 37.984375 18.0625 35.515625 20.015625 \nQ 33.0625 21.96875 24.703125 23.78125 \nL 21.578125 24.515625 \nQ 13.234375 26.265625 9.515625 29.90625 \nQ 5.8125 33.546875 5.8125 39.890625 \nQ 5.8125 47.609375 11.28125 51.796875 \nQ 16.75 56 26.8125 56 \nQ 31.78125 56 36.171875 55.265625 \nQ 40.578125 54.546875 44.28125 53.078125 \nz\n\" id=\"DejaVuSans-115\"/>\n        <path d=\"M 2.984375 54.6875 \nL 12.5 54.6875 \nL 29.59375 8.796875 \nL 46.6875 54.6875 \nL 56.203125 54.6875 \nL 35.6875 0 \nL 23.484375 0 \nz\n\" id=\"DejaVuSans-118\"/>\n        <path d=\"M 52 44.1875 \nQ 55.375 50.25 60.0625 53.125 \nQ 64.75 56 71.09375 56 \nQ 79.640625 56 84.28125 50.015625 \nQ 88.921875 44.046875 88.921875 33.015625 \nL 88.921875 0 \nL 79.890625 0 \nL 79.890625 32.71875 \nQ 79.890625 40.578125 77.09375 44.375 \nQ 74.3125 48.1875 68.609375 48.1875 \nQ 61.625 48.1875 57.5625 43.546875 \nQ 53.515625 38.921875 53.515625 30.90625 \nL 53.515625 0 \nL 44.484375 0 \nL 44.484375 32.71875 \nQ 44.484375 40.625 41.703125 44.40625 \nQ 38.921875 48.1875 33.109375 48.1875 \nQ 26.21875 48.1875 22.15625 43.53125 \nQ 18.109375 38.875 18.109375 30.90625 \nL 18.109375 0 \nL 9.078125 0 \nL 9.078125 54.6875 \nL 18.109375 54.6875 \nL 18.109375 46.1875 \nQ 21.1875 51.21875 25.484375 53.609375 \nQ 29.78125 56 35.6875 56 \nQ 41.65625 56 45.828125 52.96875 \nQ 50 49.953125 52 44.1875 \nz\n\" id=\"DejaVuSans-109\"/>\n       </defs>\n       <use xlink:href=\"#DejaVuSans-115\"/>\n       <use x=\"52.099609\" xlink:href=\"#DejaVuSans-118\"/>\n       <use x=\"111.279297\" xlink:href=\"#DejaVuSans-109\"/>\n      </g>\n     </g>\n    </g>\n    <g id=\"xtick_7\">\n     <g id=\"line2d_7\">\n      <g>\n       <use style=\"stroke:#000000;stroke-width:0.8;\" x=\"345.26273\" xlink:href=\"#me6854ecf8d\" y=\"240.811875\"/>\n      </g>\n     </g>\n     <g id=\"text_7\">\n      <!-- bayes -->\n      <g transform=\"translate(330.383824 255.410313)scale(0.1 -0.1)\">\n       <defs>\n        <path d=\"M 48.6875 27.296875 \nQ 48.6875 37.203125 44.609375 42.84375 \nQ 40.53125 48.484375 33.40625 48.484375 \nQ 26.265625 48.484375 22.1875 42.84375 \nQ 18.109375 37.203125 18.109375 27.296875 \nQ 18.109375 17.390625 22.1875 11.75 \nQ 26.265625 6.109375 33.40625 6.109375 \nQ 40.53125 6.109375 44.609375 11.75 \nQ 48.6875 17.390625 48.6875 27.296875 \nz\nM 18.109375 46.390625 \nQ 20.953125 51.265625 25.265625 53.625 \nQ 29.59375 56 35.59375 56 \nQ 45.5625 56 51.78125 48.09375 \nQ 58.015625 40.1875 58.015625 27.296875 \nQ 58.015625 14.40625 51.78125 6.484375 \nQ 45.5625 -1.421875 35.59375 -1.421875 \nQ 29.59375 -1.421875 25.265625 0.953125 \nQ 20.953125 3.328125 18.109375 8.203125 \nL 18.109375 0 \nL 9.078125 0 \nL 9.078125 75.984375 \nL 18.109375 75.984375 \nz\n\" id=\"DejaVuSans-98\"/>\n        <path d=\"M 34.28125 27.484375 \nQ 23.390625 27.484375 19.1875 25 \nQ 14.984375 22.515625 14.984375 16.5 \nQ 14.984375 11.71875 18.140625 8.90625 \nQ 21.296875 6.109375 26.703125 6.109375 \nQ 34.1875 6.109375 38.703125 11.40625 \nQ 43.21875 16.703125 43.21875 25.484375 \nL 43.21875 27.484375 \nz\nM 52.203125 31.203125 \nL 52.203125 0 \nL 43.21875 0 \nL 43.21875 8.296875 \nQ 40.140625 3.328125 35.546875 0.953125 \nQ 30.953125 -1.421875 24.3125 -1.421875 \nQ 15.921875 -1.421875 10.953125 3.296875 \nQ 6 8.015625 6 15.921875 \nQ 6 25.140625 12.171875 29.828125 \nQ 18.359375 34.515625 30.609375 34.515625 \nL 43.21875 34.515625 \nL 43.21875 35.40625 \nQ 43.21875 41.609375 39.140625 45 \nQ 35.0625 48.390625 27.6875 48.390625 \nQ 23 48.390625 18.546875 47.265625 \nQ 14.109375 46.140625 10.015625 43.890625 \nL 10.015625 52.203125 \nQ 14.9375 54.109375 19.578125 55.046875 \nQ 24.21875 56 28.609375 56 \nQ 40.484375 56 46.34375 49.84375 \nQ 52.203125 43.703125 52.203125 31.203125 \nz\n\" id=\"DejaVuSans-97\"/>\n        <path d=\"M 32.171875 -5.078125 \nQ 28.375 -14.84375 24.75 -17.8125 \nQ 21.140625 -20.796875 15.09375 -20.796875 \nL 7.90625 -20.796875 \nL 7.90625 -13.28125 \nL 13.1875 -13.28125 \nQ 16.890625 -13.28125 18.9375 -11.515625 \nQ 21 -9.765625 23.484375 -3.21875 \nL 25.09375 0.875 \nL 2.984375 54.6875 \nL 12.5 54.6875 \nL 29.59375 11.921875 \nL 46.6875 54.6875 \nL 56.203125 54.6875 \nz\n\" id=\"DejaVuSans-121\"/>\n       </defs>\n       <use xlink:href=\"#DejaVuSans-98\"/>\n       <use x=\"63.476562\" xlink:href=\"#DejaVuSans-97\"/>\n       <use x=\"124.755859\" xlink:href=\"#DejaVuSans-121\"/>\n       <use x=\"183.935547\" xlink:href=\"#DejaVuSans-101\"/>\n       <use x=\"245.458984\" xlink:href=\"#DejaVuSans-115\"/>\n      </g>\n     </g>\n    </g>\n    <g id=\"xtick_8\">\n     <g id=\"line2d_8\">\n      <g>\n       <use style=\"stroke:#000000;stroke-width:0.8;\" x=\"391.150322\" xlink:href=\"#me6854ecf8d\" y=\"240.811875\"/>\n      </g>\n     </g>\n     <g id=\"text_8\">\n      <!-- clf -->\n      <g transform=\"translate(385.251885 255.410313)scale(0.1 -0.1)\">\n       <defs>\n        <path d=\"M 48.78125 52.59375 \nL 48.78125 44.1875 \nQ 44.96875 46.296875 41.140625 47.34375 \nQ 37.3125 48.390625 33.40625 48.390625 \nQ 24.65625 48.390625 19.8125 42.84375 \nQ 14.984375 37.3125 14.984375 27.296875 \nQ 14.984375 17.28125 19.8125 11.734375 \nQ 24.65625 6.203125 33.40625 6.203125 \nQ 37.3125 6.203125 41.140625 7.25 \nQ 44.96875 8.296875 48.78125 10.40625 \nL 48.78125 2.09375 \nQ 45.015625 0.34375 40.984375 -0.53125 \nQ 36.96875 -1.421875 32.421875 -1.421875 \nQ 20.0625 -1.421875 12.78125 6.34375 \nQ 5.515625 14.109375 5.515625 27.296875 \nQ 5.515625 40.671875 12.859375 48.328125 \nQ 20.21875 56 33.015625 56 \nQ 37.15625 56 41.109375 55.140625 \nQ 45.0625 54.296875 48.78125 52.59375 \nz\n\" id=\"DejaVuSans-99\"/>\n       </defs>\n       <use xlink:href=\"#DejaVuSans-99\"/>\n       <use x=\"54.980469\" xlink:href=\"#DejaVuSans-108\"/>\n       <use x=\"82.763672\" xlink:href=\"#DejaVuSans-102\"/>\n      </g>\n     </g>\n    </g>\n    <g id=\"text_9\">\n     <!-- Algorithms -->\n     <g transform=\"translate(203.452344 269.366563)scale(0.1 -0.1)\">\n      <defs>\n       <path d=\"M 34.1875 63.1875 \nL 20.796875 26.90625 \nL 47.609375 26.90625 \nz\nM 28.609375 72.90625 \nL 39.796875 72.90625 \nL 67.578125 0 \nL 57.328125 0 \nL 50.6875 18.703125 \nL 17.828125 18.703125 \nL 11.1875 0 \nL 0.78125 0 \nz\n\" id=\"DejaVuSans-65\"/>\n       <path d=\"M 18.3125 70.21875 \nL 18.3125 54.6875 \nL 36.8125 54.6875 \nL 36.8125 47.703125 \nL 18.3125 47.703125 \nL 18.3125 18.015625 \nQ 18.3125 11.328125 20.140625 9.421875 \nQ 21.96875 7.515625 27.59375 7.515625 \nL 36.8125 7.515625 \nL 36.8125 0 \nL 27.59375 0 \nQ 17.1875 0 13.234375 3.875 \nQ 9.28125 7.765625 9.28125 18.015625 \nL 9.28125 47.703125 \nL 2.6875 47.703125 \nL 2.6875 54.6875 \nL 9.28125 54.6875 \nL 9.28125 70.21875 \nz\n\" id=\"DejaVuSans-116\"/>\n       <path d=\"M 54.890625 33.015625 \nL 54.890625 0 \nL 45.90625 0 \nL 45.90625 32.71875 \nQ 45.90625 40.484375 42.875 44.328125 \nQ 39.84375 48.1875 33.796875 48.1875 \nQ 26.515625 48.1875 22.3125 43.546875 \nQ 18.109375 38.921875 18.109375 30.90625 \nL 18.109375 0 \nL 9.078125 0 \nL 9.078125 75.984375 \nL 18.109375 75.984375 \nL 18.109375 46.1875 \nQ 21.34375 51.125 25.703125 53.5625 \nQ 30.078125 56 35.796875 56 \nQ 45.21875 56 50.046875 50.171875 \nQ 54.890625 44.34375 54.890625 33.015625 \nz\n\" id=\"DejaVuSans-104\"/>\n      </defs>\n      <use xlink:href=\"#DejaVuSans-65\"/>\n      <use x=\"68.408203\" xlink:href=\"#DejaVuSans-108\"/>\n      <use x=\"96.191406\" xlink:href=\"#DejaVuSans-103\"/>\n      <use x=\"159.667969\" xlink:href=\"#DejaVuSans-111\"/>\n      <use x=\"220.849609\" xlink:href=\"#DejaVuSans-114\"/>\n      <use x=\"261.962891\" xlink:href=\"#DejaVuSans-105\"/>\n      <use x=\"289.746094\" xlink:href=\"#DejaVuSans-116\"/>\n      <use x=\"328.955078\" xlink:href=\"#DejaVuSans-104\"/>\n      <use x=\"392.333984\" xlink:href=\"#DejaVuSans-109\"/>\n      <use x=\"489.746094\" xlink:href=\"#DejaVuSans-115\"/>\n     </g>\n    </g>\n   </g>\n   <g id=\"matplotlib.axis_2\">\n    <g id=\"ytick_1\">\n     <g id=\"line2d_9\">\n      <defs>\n       <path d=\"M 0 0 \nL -3.5 0 \n\" id=\"mfc76f1b061\" style=\"stroke:#000000;stroke-width:0.8;\"/>\n      </defs>\n      <g>\n       <use style=\"stroke:#000000;stroke-width:0.8;\" x=\"43.78125\" xlink:href=\"#mfc76f1b061\" y=\"240.811875\"/>\n      </g>\n     </g>\n     <g id=\"text_10\">\n      <!-- 0.0 -->\n      <g transform=\"translate(20.878125 244.611094)scale(0.1 -0.1)\">\n       <defs>\n        <path d=\"M 31.78125 66.40625 \nQ 24.171875 66.40625 20.328125 58.90625 \nQ 16.5 51.421875 16.5 36.375 \nQ 16.5 21.390625 20.328125 13.890625 \nQ 24.171875 6.390625 31.78125 6.390625 \nQ 39.453125 6.390625 43.28125 13.890625 \nQ 47.125 21.390625 47.125 36.375 \nQ 47.125 51.421875 43.28125 58.90625 \nQ 39.453125 66.40625 31.78125 66.40625 \nz\nM 31.78125 74.21875 \nQ 44.046875 74.21875 50.515625 64.515625 \nQ 56.984375 54.828125 56.984375 36.375 \nQ 56.984375 17.96875 50.515625 8.265625 \nQ 44.046875 -1.421875 31.78125 -1.421875 \nQ 19.53125 -1.421875 13.0625 8.265625 \nQ 6.59375 17.96875 6.59375 36.375 \nQ 6.59375 54.828125 13.0625 64.515625 \nQ 19.53125 74.21875 31.78125 74.21875 \nz\n\" id=\"DejaVuSans-48\"/>\n        <path d=\"M 10.6875 12.40625 \nL 21 12.40625 \nL 21 0 \nL 10.6875 0 \nz\n\" id=\"DejaVuSans-46\"/>\n       </defs>\n       <use xlink:href=\"#DejaVuSans-48\"/>\n       <use x=\"63.623047\" xlink:href=\"#DejaVuSans-46\"/>\n       <use x=\"95.410156\" xlink:href=\"#DejaVuSans-48\"/>\n      </g>\n     </g>\n    </g>\n    <g id=\"ytick_2\">\n     <g id=\"line2d_10\">\n      <g>\n       <use style=\"stroke:#000000;stroke-width:0.8;\" x=\"43.78125\" xlink:href=\"#mfc76f1b061\" y=\"193.500631\"/>\n      </g>\n     </g>\n     <g id=\"text_11\">\n      <!-- 0.2 -->\n      <g transform=\"translate(20.878125 197.29985)scale(0.1 -0.1)\">\n       <defs>\n        <path d=\"M 19.1875 8.296875 \nL 53.609375 8.296875 \nL 53.609375 0 \nL 7.328125 0 \nL 7.328125 8.296875 \nQ 12.9375 14.109375 22.625 23.890625 \nQ 32.328125 33.6875 34.8125 36.53125 \nQ 39.546875 41.84375 41.421875 45.53125 \nQ 43.3125 49.21875 43.3125 52.78125 \nQ 43.3125 58.59375 39.234375 62.25 \nQ 35.15625 65.921875 28.609375 65.921875 \nQ 23.96875 65.921875 18.8125 64.3125 \nQ 13.671875 62.703125 7.8125 59.421875 \nL 7.8125 69.390625 \nQ 13.765625 71.78125 18.9375 73 \nQ 24.125 74.21875 28.421875 74.21875 \nQ 39.75 74.21875 46.484375 68.546875 \nQ 53.21875 62.890625 53.21875 53.421875 \nQ 53.21875 48.921875 51.53125 44.890625 \nQ 49.859375 40.875 45.40625 35.40625 \nQ 44.1875 33.984375 37.640625 27.21875 \nQ 31.109375 20.453125 19.1875 8.296875 \nz\n\" id=\"DejaVuSans-50\"/>\n       </defs>\n       <use xlink:href=\"#DejaVuSans-48\"/>\n       <use x=\"63.623047\" xlink:href=\"#DejaVuSans-46\"/>\n       <use x=\"95.410156\" xlink:href=\"#DejaVuSans-50\"/>\n      </g>\n     </g>\n    </g>\n    <g id=\"ytick_3\">\n     <g id=\"line2d_11\">\n      <g>\n       <use style=\"stroke:#000000;stroke-width:0.8;\" x=\"43.78125\" xlink:href=\"#mfc76f1b061\" y=\"146.189387\"/>\n      </g>\n     </g>\n     <g id=\"text_12\">\n      <!-- 0.4 -->\n      <g transform=\"translate(20.878125 149.988605)scale(0.1 -0.1)\">\n       <defs>\n        <path d=\"M 37.796875 64.3125 \nL 12.890625 25.390625 \nL 37.796875 25.390625 \nz\nM 35.203125 72.90625 \nL 47.609375 72.90625 \nL 47.609375 25.390625 \nL 58.015625 25.390625 \nL 58.015625 17.1875 \nL 47.609375 17.1875 \nL 47.609375 0 \nL 37.796875 0 \nL 37.796875 17.1875 \nL 4.890625 17.1875 \nL 4.890625 26.703125 \nz\n\" id=\"DejaVuSans-52\"/>\n       </defs>\n       <use xlink:href=\"#DejaVuSans-48\"/>\n       <use x=\"63.623047\" xlink:href=\"#DejaVuSans-46\"/>\n       <use x=\"95.410156\" xlink:href=\"#DejaVuSans-52\"/>\n      </g>\n     </g>\n    </g>\n    <g id=\"ytick_4\">\n     <g id=\"line2d_12\">\n      <g>\n       <use style=\"stroke:#000000;stroke-width:0.8;\" x=\"43.78125\" xlink:href=\"#mfc76f1b061\" y=\"98.878143\"/>\n      </g>\n     </g>\n     <g id=\"text_13\">\n      <!-- 0.6 -->\n      <g transform=\"translate(20.878125 102.677361)scale(0.1 -0.1)\">\n       <defs>\n        <path d=\"M 33.015625 40.375 \nQ 26.375 40.375 22.484375 35.828125 \nQ 18.609375 31.296875 18.609375 23.390625 \nQ 18.609375 15.53125 22.484375 10.953125 \nQ 26.375 6.390625 33.015625 6.390625 \nQ 39.65625 6.390625 43.53125 10.953125 \nQ 47.40625 15.53125 47.40625 23.390625 \nQ 47.40625 31.296875 43.53125 35.828125 \nQ 39.65625 40.375 33.015625 40.375 \nz\nM 52.59375 71.296875 \nL 52.59375 62.3125 \nQ 48.875 64.0625 45.09375 64.984375 \nQ 41.3125 65.921875 37.59375 65.921875 \nQ 27.828125 65.921875 22.671875 59.328125 \nQ 17.53125 52.734375 16.796875 39.40625 \nQ 19.671875 43.65625 24.015625 45.921875 \nQ 28.375 48.1875 33.59375 48.1875 \nQ 44.578125 48.1875 50.953125 41.515625 \nQ 57.328125 34.859375 57.328125 23.390625 \nQ 57.328125 12.15625 50.6875 5.359375 \nQ 44.046875 -1.421875 33.015625 -1.421875 \nQ 20.359375 -1.421875 13.671875 8.265625 \nQ 6.984375 17.96875 6.984375 36.375 \nQ 6.984375 53.65625 15.1875 63.9375 \nQ 23.390625 74.21875 37.203125 74.21875 \nQ 40.921875 74.21875 44.703125 73.484375 \nQ 48.484375 72.75 52.59375 71.296875 \nz\n\" id=\"DejaVuSans-54\"/>\n       </defs>\n       <use xlink:href=\"#DejaVuSans-48\"/>\n       <use x=\"63.623047\" xlink:href=\"#DejaVuSans-46\"/>\n       <use x=\"95.410156\" xlink:href=\"#DejaVuSans-54\"/>\n      </g>\n     </g>\n    </g>\n    <g id=\"ytick_5\">\n     <g id=\"line2d_13\">\n      <g>\n       <use style=\"stroke:#000000;stroke-width:0.8;\" x=\"43.78125\" xlink:href=\"#mfc76f1b061\" y=\"51.566898\"/>\n      </g>\n     </g>\n     <g id=\"text_14\">\n      <!-- 0.8 -->\n      <g transform=\"translate(20.878125 55.366117)scale(0.1 -0.1)\">\n       <defs>\n        <path d=\"M 31.78125 34.625 \nQ 24.75 34.625 20.71875 30.859375 \nQ 16.703125 27.09375 16.703125 20.515625 \nQ 16.703125 13.921875 20.71875 10.15625 \nQ 24.75 6.390625 31.78125 6.390625 \nQ 38.8125 6.390625 42.859375 10.171875 \nQ 46.921875 13.96875 46.921875 20.515625 \nQ 46.921875 27.09375 42.890625 30.859375 \nQ 38.875 34.625 31.78125 34.625 \nz\nM 21.921875 38.8125 \nQ 15.578125 40.375 12.03125 44.71875 \nQ 8.5 49.078125 8.5 55.328125 \nQ 8.5 64.0625 14.71875 69.140625 \nQ 20.953125 74.21875 31.78125 74.21875 \nQ 42.671875 74.21875 48.875 69.140625 \nQ 55.078125 64.0625 55.078125 55.328125 \nQ 55.078125 49.078125 51.53125 44.71875 \nQ 48 40.375 41.703125 38.8125 \nQ 48.828125 37.15625 52.796875 32.3125 \nQ 56.78125 27.484375 56.78125 20.515625 \nQ 56.78125 9.90625 50.3125 4.234375 \nQ 43.84375 -1.421875 31.78125 -1.421875 \nQ 19.734375 -1.421875 13.25 4.234375 \nQ 6.78125 9.90625 6.78125 20.515625 \nQ 6.78125 27.484375 10.78125 32.3125 \nQ 14.796875 37.15625 21.921875 38.8125 \nz\nM 18.3125 54.390625 \nQ 18.3125 48.734375 21.84375 45.5625 \nQ 25.390625 42.390625 31.78125 42.390625 \nQ 38.140625 42.390625 41.71875 45.5625 \nQ 45.3125 48.734375 45.3125 54.390625 \nQ 45.3125 60.0625 41.71875 63.234375 \nQ 38.140625 66.40625 31.78125 66.40625 \nQ 25.390625 66.40625 21.84375 63.234375 \nQ 18.3125 60.0625 18.3125 54.390625 \nz\n\" id=\"DejaVuSans-56\"/>\n       </defs>\n       <use xlink:href=\"#DejaVuSans-48\"/>\n       <use x=\"63.623047\" xlink:href=\"#DejaVuSans-46\"/>\n       <use x=\"95.410156\" xlink:href=\"#DejaVuSans-56\"/>\n      </g>\n     </g>\n    </g>\n    <g id=\"text_15\">\n     <!-- Result -->\n     <g transform=\"translate(14.798438 147.013438)rotate(-90)scale(0.1 -0.1)\">\n      <defs>\n       <path d=\"M 44.390625 34.1875 \nQ 47.5625 33.109375 50.5625 29.59375 \nQ 53.5625 26.078125 56.59375 19.921875 \nL 66.609375 0 \nL 56 0 \nL 46.6875 18.703125 \nQ 43.0625 26.03125 39.671875 28.421875 \nQ 36.28125 30.8125 30.421875 30.8125 \nL 19.671875 30.8125 \nL 19.671875 0 \nL 9.8125 0 \nL 9.8125 72.90625 \nL 32.078125 72.90625 \nQ 44.578125 72.90625 50.734375 67.671875 \nQ 56.890625 62.453125 56.890625 51.90625 \nQ 56.890625 45.015625 53.6875 40.46875 \nQ 50.484375 35.9375 44.390625 34.1875 \nz\nM 19.671875 64.796875 \nL 19.671875 38.921875 \nL 32.078125 38.921875 \nQ 39.203125 38.921875 42.84375 42.21875 \nQ 46.484375 45.515625 46.484375 51.90625 \nQ 46.484375 58.296875 42.84375 61.546875 \nQ 39.203125 64.796875 32.078125 64.796875 \nz\n\" id=\"DejaVuSans-82\"/>\n       <path d=\"M 8.5 21.578125 \nL 8.5 54.6875 \nL 17.484375 54.6875 \nL 17.484375 21.921875 \nQ 17.484375 14.15625 20.5 10.265625 \nQ 23.53125 6.390625 29.59375 6.390625 \nQ 36.859375 6.390625 41.078125 11.03125 \nQ 45.3125 15.671875 45.3125 23.6875 \nL 45.3125 54.6875 \nL 54.296875 54.6875 \nL 54.296875 0 \nL 45.3125 0 \nL 45.3125 8.40625 \nQ 42.046875 3.421875 37.71875 1 \nQ 33.40625 -1.421875 27.6875 -1.421875 \nQ 18.265625 -1.421875 13.375 4.4375 \nQ 8.5 10.296875 8.5 21.578125 \nz\nM 31.109375 56 \nz\n\" id=\"DejaVuSans-117\"/>\n      </defs>\n      <use xlink:href=\"#DejaVuSans-82\"/>\n      <use x=\"64.982422\" xlink:href=\"#DejaVuSans-101\"/>\n      <use x=\"126.505859\" xlink:href=\"#DejaVuSans-115\"/>\n      <use x=\"178.605469\" xlink:href=\"#DejaVuSans-117\"/>\n      <use x=\"241.984375\" xlink:href=\"#DejaVuSans-108\"/>\n      <use x=\"269.767578\" xlink:href=\"#DejaVuSans-116\"/>\n     </g>\n    </g>\n   </g>\n   <g id=\"patch_11\">\n    <path d=\"M 43.78125 240.811875 \nL 43.78125 22.318125 \n\" style=\"fill:none;stroke:#000000;stroke-linecap:square;stroke-linejoin:miter;stroke-width:0.8;\"/>\n   </g>\n   <g id=\"patch_12\">\n    <path d=\"M 417.30625 240.811875 \nL 417.30625 22.318125 \n\" style=\"fill:none;stroke:#000000;stroke-linecap:square;stroke-linejoin:miter;stroke-width:0.8;\"/>\n   </g>\n   <g id=\"patch_13\">\n    <path d=\"M 43.78125 240.811875 \nL 417.30625 240.811875 \n\" style=\"fill:none;stroke:#000000;stroke-linecap:square;stroke-linejoin:miter;stroke-width:0.8;\"/>\n   </g>\n   <g id=\"patch_14\">\n    <path d=\"M 43.78125 22.318125 \nL 417.30625 22.318125 \n\" style=\"fill:none;stroke:#000000;stroke-linecap:square;stroke-linejoin:miter;stroke-width:0.8;\"/>\n   </g>\n   <g id=\"text_16\">\n    <!-- AUC -->\n    <g transform=\"translate(217.858437 16.318125)scale(0.12 -0.12)\">\n     <defs>\n      <path d=\"M 8.6875 72.90625 \nL 18.609375 72.90625 \nL 18.609375 28.609375 \nQ 18.609375 16.890625 22.84375 11.734375 \nQ 27.09375 6.59375 36.625 6.59375 \nQ 46.09375 6.59375 50.34375 11.734375 \nQ 54.59375 16.890625 54.59375 28.609375 \nL 54.59375 72.90625 \nL 64.5 72.90625 \nL 64.5 27.390625 \nQ 64.5 13.140625 57.4375 5.859375 \nQ 50.390625 -1.421875 36.625 -1.421875 \nQ 22.796875 -1.421875 15.734375 5.859375 \nQ 8.6875 13.140625 8.6875 27.390625 \nz\n\" id=\"DejaVuSans-85\"/>\n      <path d=\"M 64.40625 67.28125 \nL 64.40625 56.890625 \nQ 59.421875 61.53125 53.78125 63.8125 \nQ 48.140625 66.109375 41.796875 66.109375 \nQ 29.296875 66.109375 22.65625 58.46875 \nQ 16.015625 50.828125 16.015625 36.375 \nQ 16.015625 21.96875 22.65625 14.328125 \nQ 29.296875 6.6875 41.796875 6.6875 \nQ 48.140625 6.6875 53.78125 8.984375 \nQ 59.421875 11.28125 64.40625 15.921875 \nL 64.40625 5.609375 \nQ 59.234375 2.09375 53.4375 0.328125 \nQ 47.65625 -1.421875 41.21875 -1.421875 \nQ 24.65625 -1.421875 15.125 8.703125 \nQ 5.609375 18.84375 5.609375 36.375 \nQ 5.609375 53.953125 15.125 64.078125 \nQ 24.65625 74.21875 41.21875 74.21875 \nQ 47.75 74.21875 53.53125 72.484375 \nQ 59.328125 70.75 64.40625 67.28125 \nz\n\" id=\"DejaVuSans-67\"/>\n     </defs>\n     <use xlink:href=\"#DejaVuSans-65\"/>\n     <use x=\"68.408203\" xlink:href=\"#DejaVuSans-85\"/>\n     <use x=\"141.601562\" xlink:href=\"#DejaVuSans-67\"/>\n    </g>\n   </g>\n  </g>\n </g>\n <defs>\n  <clipPath id=\"p8b4588edcb\">\n   <rect height=\"218.49375\" width=\"373.525\" x=\"43.78125\" y=\"22.318125\"/>\n  </clipPath>\n </defs>\n</svg>\n",
      "image/png": "[encoded data removed]"
     },
     "metadata": {
      "needs_background": "light"
     }
    }
   ],
   "source": [
    "# df_summary = pd.DataFrame(model_summary)\n",
    "\n",
    "x = np.arange(len(df_summary['model']))\n",
    "width = 0.4\n",
    "\n",
    "fig, ax = plt.subplots()\n",
    "rects1 = ax.bar(x, df_summary['auc'], width, label='auc')\n",
    "\n",
    "# Add some text for labels, title and custom x-axis tick labels, etc.\n",
    "ax.set_ylabel('Result')\n",
    "ax.set_xlabel('Algorithms')\n",
    "ax.set_title('AUC')\n",
    "ax.set_xticks(x)\n",
    "ax.set_xticklabels(df_summary['model'])\n",
    "# ax.legend()\n",
    "\n",
    "fig.tight_layout()\n",
    "plt.savefig('../../img/AUC.png')"
   ]
  },
  {
   "cell_type": "code",
   "execution_count": 40,
   "metadata": {},
   "outputs": [
    {
     "output_type": "execute_result",
     "data": {
      "text/plain": [
       "      model  precision  recall  accuracy       auc        f1\n",
       "0        rf   0.310680  1.0000  0.782875  0.879661  0.474074\n",
       "1  log_regr   0.300000  0.9375  0.779817  0.850106  0.454545\n",
       "2  lin_regr   0.000000  0.0000  0.902141  0.500000  0.000000\n",
       "3       knn   0.285714  0.0625  0.892966  0.522775  0.102564\n",
       "4        nn   0.363636  0.1250  0.892966  0.550636  0.186047\n",
       "5       svm   0.303030  0.9375  0.782875  0.851801  0.458015\n",
       "6     bayes   0.303030  0.9375  0.782875  0.851801  0.458015\n",
       "7       clf   0.059701  0.2500  0.541284  0.411441  0.096386"
      ],
      "text/html": "<div>\n<style scoped>\n    .dataframe tbody tr th:only-of-type {\n        vertical-align: middle;\n    }\n\n    .dataframe tbody tr th {\n        vertical-align: top;\n    }\n\n    .dataframe thead th {\n        text-align: right;\n    }\n</style>\n<table border=\"1\" class=\"dataframe\">\n  <thead>\n    <tr style=\"text-align: right;\">\n      <th></th>\n      <th>model</th>\n      <th>precision</th>\n      <th>recall</th>\n      <th>accuracy</th>\n      <th>auc</th>\n      <th>f1</th>\n    </tr>\n  </thead>\n  <tbody>\n    <tr>\n      <th>0</th>\n      <td>rf</td>\n      <td>0.310680</td>\n      <td>1.0000</td>\n      <td>0.782875</td>\n      <td>0.879661</td>\n      <td>0.474074</td>\n    </tr>\n    <tr>\n      <th>1</th>\n      <td>log_regr</td>\n      <td>0.300000</td>\n      <td>0.9375</td>\n      <td>0.779817</td>\n      <td>0.850106</td>\n      <td>0.454545</td>\n    </tr>\n    <tr>\n      <th>2</th>\n      <td>lin_regr</td>\n      <td>0.000000</td>\n      <td>0.0000</td>\n      <td>0.902141</td>\n      <td>0.500000</td>\n      <td>0.000000</td>\n    </tr>\n    <tr>\n      <th>3</th>\n      <td>knn</td>\n      <td>0.285714</td>\n      <td>0.0625</td>\n      <td>0.892966</td>\n      <td>0.522775</td>\n      <td>0.102564</td>\n    </tr>\n    <tr>\n      <th>4</th>\n      <td>nn</td>\n      <td>0.363636</td>\n      <td>0.1250</td>\n      <td>0.892966</td>\n      <td>0.550636</td>\n      <td>0.186047</td>\n    </tr>\n    <tr>\n      <th>5</th>\n      <td>svm</td>\n      <td>0.303030</td>\n      <td>0.9375</td>\n      <td>0.782875</td>\n      <td>0.851801</td>\n      <td>0.458015</td>\n    </tr>\n    <tr>\n      <th>6</th>\n      <td>bayes</td>\n      <td>0.303030</td>\n      <td>0.9375</td>\n      <td>0.782875</td>\n      <td>0.851801</td>\n      <td>0.458015</td>\n    </tr>\n    <tr>\n      <th>7</th>\n      <td>clf</td>\n      <td>0.059701</td>\n      <td>0.2500</td>\n      <td>0.541284</td>\n      <td>0.411441</td>\n      <td>0.096386</td>\n    </tr>\n  </tbody>\n</table>\n</div>"
     },
     "metadata": {},
     "execution_count": 40
    }
   ],
   "source": [
    "df_summary"
   ]
  },
  {
   "cell_type": "code",
   "execution_count": 41,
   "metadata": {},
   "outputs": [
    {
     "output_type": "stream",
     "name": "stdout",
     "text": [
      "\\begin{tabular}{lrrrrr}\n\\toprule\n    model &  precision &  recall &  accuracy &       auc &        f1 \\\\\n\\midrule\n       rf &   0.310680 &  1.0000 &  0.782875 &  0.879661 &  0.474074 \\\\\n log\\_regr &   0.300000 &  0.9375 &  0.779817 &  0.850106 &  0.454545 \\\\\n lin\\_regr &   0.000000 &  0.0000 &  0.902141 &  0.500000 &  0.000000 \\\\\n      knn &   0.285714 &  0.0625 &  0.892966 &  0.522775 &  0.102564 \\\\\n       nn &   0.363636 &  0.1250 &  0.892966 &  0.550636 &  0.186047 \\\\\n      svm &   0.303030 &  0.9375 &  0.782875 &  0.851801 &  0.458015 \\\\\n    bayes &   0.303030 &  0.9375 &  0.782875 &  0.851801 &  0.458015 \\\\\n      clf &   0.059701 &  0.2500 &  0.541284 &  0.411441 &  0.096386 \\\\\n\\bottomrule\n\\end{tabular}\n\n"
     ]
    }
   ],
   "source": [
    "print(df_summary.to_latex(index=False))"
   ]
  },
  {
   "cell_type": "code",
   "execution_count": 42,
   "metadata": {},
   "outputs": [
    {
     "output_type": "execute_result",
     "data": {
      "text/plain": [
       "      model   TP   FP  FN  TN\n",
       "0        rf  224   71   0  32\n",
       "1  log_regr  225   70   2  30\n",
       "2  lin_regr  295    0  32   0\n",
       "3       knn  290    5  30   2\n",
       "4        nn  288    7  28   4\n",
       "5       svm  226   69   2  30\n",
       "6     bayes  226   69   2  30\n",
       "7       clf  169  126  24   8"
      ],
      "text/html": "<div>\n<style scoped>\n    .dataframe tbody tr th:only-of-type {\n        vertical-align: middle;\n    }\n\n    .dataframe tbody tr th {\n        vertical-align: top;\n    }\n\n    .dataframe thead th {\n        text-align: right;\n    }\n</style>\n<table border=\"1\" class=\"dataframe\">\n  <thead>\n    <tr style=\"text-align: right;\">\n      <th></th>\n      <th>model</th>\n      <th>TP</th>\n      <th>FP</th>\n      <th>FN</th>\n      <th>TN</th>\n    </tr>\n  </thead>\n  <tbody>\n    <tr>\n      <th>0</th>\n      <td>rf</td>\n      <td>224</td>\n      <td>71</td>\n      <td>0</td>\n      <td>32</td>\n    </tr>\n    <tr>\n      <th>1</th>\n      <td>log_regr</td>\n      <td>225</td>\n      <td>70</td>\n      <td>2</td>\n      <td>30</td>\n    </tr>\n    <tr>\n      <th>2</th>\n      <td>lin_regr</td>\n      <td>295</td>\n      <td>0</td>\n      <td>32</td>\n      <td>0</td>\n    </tr>\n    <tr>\n      <th>3</th>\n      <td>knn</td>\n      <td>290</td>\n      <td>5</td>\n      <td>30</td>\n      <td>2</td>\n    </tr>\n    <tr>\n      <th>4</th>\n      <td>nn</td>\n      <td>288</td>\n      <td>7</td>\n      <td>28</td>\n      <td>4</td>\n    </tr>\n    <tr>\n      <th>5</th>\n      <td>svm</td>\n      <td>226</td>\n      <td>69</td>\n      <td>2</td>\n      <td>30</td>\n    </tr>\n    <tr>\n      <th>6</th>\n      <td>bayes</td>\n      <td>226</td>\n      <td>69</td>\n      <td>2</td>\n      <td>30</td>\n    </tr>\n    <tr>\n      <th>7</th>\n      <td>clf</td>\n      <td>169</td>\n      <td>126</td>\n      <td>24</td>\n      <td>8</td>\n    </tr>\n  </tbody>\n</table>\n</div>"
     },
     "metadata": {},
     "execution_count": 42
    }
   ],
   "source": [
    "c_matr\n",
    "cm_summary = pd.DataFrame(c_matr)\n",
    "cm_summary"
   ]
  },
  {
   "cell_type": "code",
   "execution_count": 43,
   "metadata": {},
   "outputs": [
    {
     "output_type": "stream",
     "name": "stdout",
     "text": [
      "\\begin{tabular}{lrrrr}\n\\toprule\n    model &   TP &   FP &  FN &  TN \\\\\n\\midrule\n       rf &  224 &   71 &   0 &  32 \\\\\n log\\_regr &  225 &   70 &   2 &  30 \\\\\n lin\\_regr &  295 &    0 &  32 &   0 \\\\\n      knn &  290 &    5 &  30 &   2 \\\\\n       nn &  288 &    7 &  28 &   4 \\\\\n      svm &  226 &   69 &   2 &  30 \\\\\n    bayes &  226 &   69 &   2 &  30 \\\\\n      clf &  169 &  126 &  24 &   8 \\\\\n\\bottomrule\n\\end{tabular}\n\n"
     ]
    }
   ],
   "source": [
    "print(cm_summary.to_latex(index=False))"
   ]
  }
 ]
}