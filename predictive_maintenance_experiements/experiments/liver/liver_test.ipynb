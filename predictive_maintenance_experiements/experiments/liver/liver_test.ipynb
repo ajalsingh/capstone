{
 "metadata": {
  "language_info": {
   "codemirror_mode": {
    "name": "ipython",
    "version": 3
   },
   "file_extension": ".py",
   "mimetype": "text/x-python",
   "name": "python",
   "nbconvert_exporter": "python",
   "pygments_lexer": "ipython3",
   "version": "3.6.9-final"
  },
  "orig_nbformat": 2,
  "kernelspec": {
   "name": "python3",
   "display_name": "Python 3",
   "language": "python"
  }
 },
 "nbformat": 4,
 "nbformat_minor": 2,
 "cells": [
  {
   "cell_type": "code",
   "execution_count": 1,
   "metadata": {},
   "outputs": [],
   "source": [
    "# data cleaning and plots\n",
    "import pandas as pd\n",
    "import numpy as np\n",
    "import seaborn as sns\n",
    "import matplotlib.pyplot as plt\n",
    "plt.style.use('ggplot')\n",
    "%matplotlib inline\n",
    "\n",
    "# sklearn: data preprocessing\n",
    "from sklearn.compose import ColumnTransformer\n",
    "from sklearn.preprocessing import StandardScaler, LabelEncoder, OneHotEncoder\n",
    "\n",
    "# sklearn: train model\n",
    "from sklearn.model_selection import train_test_split\n",
    "from sklearn.model_selection import cross_val_score, cross_validate, StratifiedKFold\n",
    "from sklearn.metrics import precision_recall_curve, precision_score, recall_score, f1_score, accuracy_score\n",
    "from sklearn.metrics import roc_curve, auc, roc_auc_score, confusion_matrix, classification_report\n",
    "\n",
    "# sklearn classifiers\n",
    "from sklearn.linear_model import LogisticRegression\n",
    "from sklearn.tree import DecisionTreeClassifier\n",
    "from sklearn.ensemble import RandomForestClassifier\n",
    "from sklearn.neural_network import MLPClassifier"
   ]
  },
  {
   "cell_type": "code",
   "execution_count": 2,
   "metadata": {},
   "outputs": [],
   "source": [
    "df_male = pd.read_csv('../../datasets/liver/indian_liver_patient_male.csv')\n",
    "df_female = pd.read_csv('../../datasets/liver/indian_liver_patient_female.csv')"
   ]
  },
  {
   "cell_type": "code",
   "execution_count": 3,
   "metadata": {},
   "outputs": [
    {
     "output_type": "execute_result",
     "data": {
      "text/plain": [
       "Age                           0\n",
       "Gender                        0\n",
       "Total_Bilirubin               0\n",
       "Direct_Bilirubin              0\n",
       "Alkaline_Phosphotase          0\n",
       "Alamine_Aminotransferase      0\n",
       "Aspartate_Aminotransferase    0\n",
       "Total_Protiens                0\n",
       "Albumin                       0\n",
       "Albumin_and_Globulin_Ratio    2\n",
       "Dataset                       0\n",
       "dtype: int64"
      ]
     },
     "metadata": {},
     "execution_count": 3
    }
   ],
   "source": [
    "df_male.isnull().sum()"
   ]
  },
  {
   "cell_type": "code",
   "execution_count": 4,
   "metadata": {},
   "outputs": [
    {
     "output_type": "stream",
     "name": "stdout",
     "text": [
      "(441, 11)\n(439, 11)\n"
     ]
    }
   ],
   "source": [
    "print(df_male.shape)\n",
    "\n",
    "# Discard the rows with missing values\n",
    "df_male = df_male.dropna()\n",
    "\n",
    "# Shape of the data: we could see that the number of rows is 579 now (originally it is 583)\n",
    "print(df_male.shape)"
   ]
  },
  {
   "cell_type": "code",
   "execution_count": 5,
   "metadata": {},
   "outputs": [
    {
     "output_type": "execute_result",
     "data": {
      "text/plain": [
       "Age                           0\n",
       "Gender                        0\n",
       "Total_Bilirubin               0\n",
       "Direct_Bilirubin              0\n",
       "Alkaline_Phosphotase          0\n",
       "Alamine_Aminotransferase      0\n",
       "Aspartate_Aminotransferase    0\n",
       "Total_Protiens                0\n",
       "Albumin                       0\n",
       "Albumin_and_Globulin_Ratio    2\n",
       "Dataset                       0\n",
       "dtype: int64"
      ]
     },
     "metadata": {},
     "execution_count": 5
    }
   ],
   "source": [
    "df_female.isnull().sum()"
   ]
  },
  {
   "cell_type": "code",
   "execution_count": 6,
   "metadata": {},
   "outputs": [
    {
     "output_type": "stream",
     "name": "stdout",
     "text": [
      "(142, 11)\n(140, 11)\n"
     ]
    }
   ],
   "source": [
    "print(df_female.shape)\n",
    "\n",
    "# Discard the rows with missing values\n",
    "df_female = df_female.dropna()\n",
    "\n",
    "# Shape of the data: we could see that the number of rows is 579 now (originally it is 583)\n",
    "print(df_female.shape)"
   ]
  },
  {
   "cell_type": "code",
   "execution_count": 7,
   "metadata": {},
   "outputs": [
    {
     "output_type": "execute_result",
     "data": {
      "text/plain": [
       "Age                           0\n",
       "Gender                        0\n",
       "Total_Bilirubin               0\n",
       "Direct_Bilirubin              0\n",
       "Alkaline_Phosphotase          0\n",
       "Alamine_Aminotransferase      0\n",
       "Aspartate_Aminotransferase    0\n",
       "Total_Protiens                0\n",
       "Albumin                       0\n",
       "Albumin_and_Globulin_Ratio    0\n",
       "Dataset                       0\n",
       "dtype: int64"
      ]
     },
     "metadata": {},
     "execution_count": 7
    }
   ],
   "source": [
    "df_male.isnull().sum()"
   ]
  },
  {
   "cell_type": "code",
   "execution_count": 8,
   "metadata": {},
   "outputs": [
    {
     "output_type": "execute_result",
     "data": {
      "text/plain": [
       "Age                           0\n",
       "Gender                        0\n",
       "Total_Bilirubin               0\n",
       "Direct_Bilirubin              0\n",
       "Alkaline_Phosphotase          0\n",
       "Alamine_Aminotransferase      0\n",
       "Aspartate_Aminotransferase    0\n",
       "Total_Protiens                0\n",
       "Albumin                       0\n",
       "Albumin_and_Globulin_Ratio    0\n",
       "Dataset                       0\n",
       "dtype: int64"
      ]
     },
     "metadata": {},
     "execution_count": 8
    }
   ],
   "source": [
    "df_female.isnull().sum()"
   ]
  },
  {
   "cell_type": "code",
   "execution_count": 9,
   "metadata": {},
   "outputs": [],
   "source": [
    "X_train = df_male.drop(axis=1, columns=['Dataset']) # X is a dataframe\n",
    "\n",
    "y_train = df_male['Dataset'].values # y is an array\n",
    "\n",
    "X_test = df_female.drop(axis=1, columns=['Dataset']) # X is a dataframe\n",
    "\n",
    "y_test = df_female['Dataset'].values # y is an array"
   ]
  },
  {
   "cell_type": "code",
   "execution_count": 10,
   "metadata": {},
   "outputs": [],
   "source": [
    "data_to_use = [df_male, df_female]\n",
    "data_to_use = pd.concat(data_to_use)\n",
    "\n",
    "y = data_to_use['Dataset'].values # y is an array"
   ]
  },
  {
   "cell_type": "code",
   "execution_count": 11,
   "metadata": {},
   "outputs": [
    {
     "output_type": "execute_result",
     "data": {
      "text/plain": [
       "Female    140\n",
       "Name: Gender, dtype: int64"
      ]
     },
     "metadata": {},
     "execution_count": 11
    }
   ],
   "source": [
    "X_test['Gender'].value_counts()"
   ]
  },
  {
   "cell_type": "code",
   "execution_count": 12,
   "metadata": {},
   "outputs": [],
   "source": [
    "# Calculate Y ratio\n",
    "def data_ratio(y):\n",
    "    '''\n",
    "    Calculate Y's ratio\n",
    "    '''\n",
    "    unique, count = np.unique(y, return_counts=True)\n",
    "    ratio = round(count[0]/count[1], 1)\n",
    "    return f'{ratio}:1 ({count[0]}/{count[1]})'"
   ]
  },
  {
   "cell_type": "code",
   "execution_count": 13,
   "metadata": {},
   "outputs": [
    {
     "output_type": "stream",
     "name": "stdout",
     "text": [
      "The class ratio in training data:  0.4:1 (116/323)\nThe class ratio in testing data:  0.5:1 (49/91)\n"
     ]
    }
   ],
   "source": [
    "print('The class ratio in training data: ', data_ratio(y_train))\n",
    "print('The class ratio in testing data: ', data_ratio(y_test))"
   ]
  },
  {
   "cell_type": "code",
   "execution_count": 14,
   "metadata": {},
   "outputs": [],
   "source": [
    "# determine categorical and numerical columns\n",
    "numerical_cols = X_train.select_dtypes(include=['int64', 'float64']).columns\n",
    "categorical_cols = X_train.select_dtypes(include=['object', 'bool']).columns"
   ]
  },
  {
   "cell_type": "code",
   "execution_count": 15,
   "metadata": {},
   "outputs": [
    {
     "output_type": "execute_result",
     "data": {
      "text/plain": [
       "Index(['Age', 'Total_Bilirubin', 'Direct_Bilirubin', 'Alkaline_Phosphotase',\n",
       "       'Alamine_Aminotransferase', 'Aspartate_Aminotransferase',\n",
       "       'Total_Protiens', 'Albumin', 'Albumin_and_Globulin_Ratio'],\n",
       "      dtype='object')"
      ]
     },
     "metadata": {},
     "execution_count": 15
    }
   ],
   "source": [
    "numerical_cols"
   ]
  },
  {
   "cell_type": "code",
   "execution_count": 16,
   "metadata": {},
   "outputs": [
    {
     "output_type": "execute_result",
     "data": {
      "text/plain": [
       "Index(['Gender'], dtype='object')"
      ]
     },
     "metadata": {},
     "execution_count": 16
    }
   ],
   "source": [
    "categorical_cols"
   ]
  },
  {
   "cell_type": "code",
   "execution_count": 17,
   "metadata": {},
   "outputs": [
    {
     "output_type": "execute_result",
     "data": {
      "text/plain": [
       "ColumnTransformer(transformers=[('ohe', OneHotEncoder(handle_unknown='ignore'),\n",
       "                                 Index(['Gender'], dtype='object')),\n",
       "                                ('scale', StandardScaler(),\n",
       "                                 Index(['Age', 'Total_Bilirubin', 'Direct_Bilirubin', 'Alkaline_Phosphotase',\n",
       "       'Alamine_Aminotransferase', 'Aspartate_Aminotransferase',\n",
       "       'Total_Protiens', 'Albumin', 'Albumin_and_Globulin_Ratio'],\n",
       "      dtype='object'))])"
      ]
     },
     "metadata": {},
     "execution_count": 17
    }
   ],
   "source": [
    "ohe = OneHotEncoder(handle_unknown = \"ignore\")\n",
    "\n",
    "# define the transformation methods for the columns\n",
    "t = [('ohe', ohe, categorical_cols),\n",
    "    ('scale', StandardScaler(), numerical_cols)]\n",
    "\n",
    "col_trans = ColumnTransformer(transformers=t)\n",
    "\n",
    "# fit the transformation on training data\n",
    "col_trans.fit(X_train)"
   ]
  },
  {
   "cell_type": "code",
   "execution_count": 18,
   "metadata": {},
   "outputs": [],
   "source": [
    "# apply transformation to both training and testing data \n",
    "X_train_transform = col_trans.transform(X_train)\n",
    "X_test_transform = col_trans.transform(X_test)"
   ]
  },
  {
   "cell_type": "code",
   "execution_count": 19,
   "metadata": {},
   "outputs": [
    {
     "output_type": "execute_result",
     "data": {
      "text/plain": [
       "array([[ 1.        ,  1.76556047, -0.39989564, ..., -0.02210596,\n",
       "         0.39135708,  0.4668162 ],\n",
       "       [ 1.        ,  1.70405586, -0.27801475, ...,  0.07211265,\n",
       "        -0.12303142, -0.44521011],\n",
       "       [ 1.        , -0.75612838, -0.44560097, ...,  0.54320567,\n",
       "         0.77714846,  0.4668162 ],\n",
       "       ...,\n",
       "       [ 1.        ,  0.22794532, -0.46083608, ..., -1.34116643,\n",
       "        -0.89461417, -0.14120134],\n",
       "       [ 1.        ,  0.22794532, -0.38466053, ...,  0.54320567,\n",
       "         1.54873122,  1.68285128],\n",
       "       [ 1.        , -0.44860535, -0.39989564, ...,  0.82586148,\n",
       "         1.67732834,  1.68285128]])"
      ]
     },
     "metadata": {},
     "execution_count": 19
    }
   ],
   "source": [
    "# look at the transformed training data\n",
    "X_train_transform"
   ]
  },
  {
   "cell_type": "code",
   "execution_count": 20,
   "metadata": {},
   "outputs": [
    {
     "output_type": "execute_result",
     "data": {
      "text/plain": [
       "array(['x0_Male'], dtype=object)"
      ]
     },
     "metadata": {},
     "execution_count": 20
    }
   ],
   "source": [
    "col_trans.transformers_[0][1].get_feature_names()\n"
   ]
  },
  {
   "cell_type": "code",
   "execution_count": 21,
   "metadata": {},
   "outputs": [
    {
     "output_type": "execute_result",
     "data": {
      "text/plain": [
       "   Male       Age  Total_Bilirubin  Direct_Bilirubin  Alkaline_Phosphotase  \\\n",
       "0   1.0  1.765560        -0.399896         -0.463728             -0.506771   \n",
       "1   1.0  1.704056        -0.278015         -0.257887             -0.303757   \n",
       "2   1.0 -0.756128        -0.445601         -0.532342             -0.538352   \n",
       "3   1.0 -0.018073        -0.430366         -0.498035             -0.664672   \n",
       "4   1.0 -0.756128        -0.430366         -0.498035             -0.687229   \n",
       "\n",
       "   Alamine_Aminotransferase  Aspartate_Aminotransferase  Total_Protiens  \\\n",
       "0                 -0.293814                   -0.282504       -0.022106   \n",
       "1                 -0.343167                   -0.248505        0.072113   \n",
       "2                 -0.269138                   -0.279413        0.543206   \n",
       "3                 -0.323426                   -0.319593       -0.116325   \n",
       "4                 -0.293814                   -0.291776        0.731643   \n",
       "\n",
       "    Albumin  Albumin_and_Globulin_Ratio  \n",
       "0  0.391357                    0.466816  \n",
       "1 -0.123031                   -0.445210  \n",
       "2  0.777148                    0.466816  \n",
       "3  0.134163                    0.162807  \n",
       "4  1.677328                    1.682851  "
      ],
      "text/html": "<div>\n<style scoped>\n    .dataframe tbody tr th:only-of-type {\n        vertical-align: middle;\n    }\n\n    .dataframe tbody tr th {\n        vertical-align: top;\n    }\n\n    .dataframe thead th {\n        text-align: right;\n    }\n</style>\n<table border=\"1\" class=\"dataframe\">\n  <thead>\n    <tr style=\"text-align: right;\">\n      <th></th>\n      <th>Male</th>\n      <th>Age</th>\n      <th>Total_Bilirubin</th>\n      <th>Direct_Bilirubin</th>\n      <th>Alkaline_Phosphotase</th>\n      <th>Alamine_Aminotransferase</th>\n      <th>Aspartate_Aminotransferase</th>\n      <th>Total_Protiens</th>\n      <th>Albumin</th>\n      <th>Albumin_and_Globulin_Ratio</th>\n    </tr>\n  </thead>\n  <tbody>\n    <tr>\n      <th>0</th>\n      <td>1.0</td>\n      <td>1.765560</td>\n      <td>-0.399896</td>\n      <td>-0.463728</td>\n      <td>-0.506771</td>\n      <td>-0.293814</td>\n      <td>-0.282504</td>\n      <td>-0.022106</td>\n      <td>0.391357</td>\n      <td>0.466816</td>\n    </tr>\n    <tr>\n      <th>1</th>\n      <td>1.0</td>\n      <td>1.704056</td>\n      <td>-0.278015</td>\n      <td>-0.257887</td>\n      <td>-0.303757</td>\n      <td>-0.343167</td>\n      <td>-0.248505</td>\n      <td>0.072113</td>\n      <td>-0.123031</td>\n      <td>-0.445210</td>\n    </tr>\n    <tr>\n      <th>2</th>\n      <td>1.0</td>\n      <td>-0.756128</td>\n      <td>-0.445601</td>\n      <td>-0.532342</td>\n      <td>-0.538352</td>\n      <td>-0.269138</td>\n      <td>-0.279413</td>\n      <td>0.543206</td>\n      <td>0.777148</td>\n      <td>0.466816</td>\n    </tr>\n    <tr>\n      <th>3</th>\n      <td>1.0</td>\n      <td>-0.018073</td>\n      <td>-0.430366</td>\n      <td>-0.498035</td>\n      <td>-0.664672</td>\n      <td>-0.323426</td>\n      <td>-0.319593</td>\n      <td>-0.116325</td>\n      <td>0.134163</td>\n      <td>0.162807</td>\n    </tr>\n    <tr>\n      <th>4</th>\n      <td>1.0</td>\n      <td>-0.756128</td>\n      <td>-0.430366</td>\n      <td>-0.498035</td>\n      <td>-0.687229</td>\n      <td>-0.293814</td>\n      <td>-0.291776</td>\n      <td>0.731643</td>\n      <td>1.677328</td>\n      <td>1.682851</td>\n    </tr>\n  </tbody>\n</table>\n</div>"
     },
     "metadata": {},
     "execution_count": 21
    }
   ],
   "source": [
    "new_cols = ['Male'] + numerical_cols.to_list()\n",
    "\n",
    "pd.DataFrame(X_train_transform, columns=new_cols).head()"
   ]
  },
  {
   "cell_type": "code",
   "execution_count": 22,
   "metadata": {},
   "outputs": [
    {
     "output_type": "execute_result",
     "data": {
      "text/plain": [
       "array([2, 1])"
      ]
     },
     "metadata": {},
     "execution_count": 22
    }
   ],
   "source": [
    "# Note that the distinct values/labels in `y` target are 1 and 2. \n",
    "pd.unique(y)"
   ]
  },
  {
   "cell_type": "code",
   "execution_count": 23,
   "metadata": {},
   "outputs": [
    {
     "output_type": "execute_result",
     "data": {
      "text/plain": [
       "LabelEncoder()"
      ]
     },
     "metadata": {},
     "execution_count": 23
    }
   ],
   "source": [
    "# Define a LabelEncoder() transformation method and fit on y_train\n",
    "target_trans = LabelEncoder()\n",
    "target_trans.fit(y_train)"
   ]
  },
  {
   "cell_type": "code",
   "execution_count": 24,
   "metadata": {},
   "outputs": [],
   "source": [
    "# apply transformation method on y_train and y_test\n",
    "y_train_transform = target_trans.transform(y_train)\n",
    "y_test_transform = target_trans.transform(y_test)"
   ]
  },
  {
   "cell_type": "code",
   "execution_count": 25,
   "metadata": {},
   "outputs": [],
   "source": [
    "# ===== Step 1: cross-validation ========\n",
    "# define a Logistic Regression classifier\n",
    "clf = LogisticRegression(solver='lbfgs', random_state=123)\n",
    "\n",
    "# define  Stratified 5-fold cross-validator, it provides train/validate indices to split data in train/validate sets.\n",
    "cv = StratifiedKFold(n_splits=5, shuffle=True, random_state=123)\n",
    "\n",
    "# define metrics for evaluating\n",
    "scoring = ['accuracy', 'precision', 'recall', 'f1', 'roc_auc']\n",
    "\n",
    "# perform the 5-fold CV and get the metrics results\n",
    "cv_results = cross_validate(estimator=clf,\n",
    "                            X=X_train_transform,\n",
    "                            y=y_train_transform,\n",
    "                            scoring=scoring,\n",
    "                            cv=cv,\n",
    "                            return_train_score=False) # prevent to show the train scores on cv splits."
   ]
  },
  {
   "cell_type": "code",
   "execution_count": 26,
   "metadata": {},
   "outputs": [
    {
     "output_type": "execute_result",
     "data": {
      "text/plain": [
       "{'fit_time': array([0.01656604, 0.01255798, 0.0094614 , 0.00998688, 0.01032186]),\n",
       " 'score_time': array([0.00427222, 0.00347829, 0.00497031, 0.00337267, 0.00360656]),\n",
       " 'test_accuracy': array([0.76136364, 0.64772727, 0.73863636, 0.77272727, 0.75862069]),\n",
       " 'test_precision': array([0.78947368, 0.72972973, 0.75609756, 0.78205128, 0.7721519 ]),\n",
       " 'test_recall': array([0.92307692, 0.83076923, 0.95384615, 0.953125  , 0.953125  ]),\n",
       " 'test_f1': array([0.85106383, 0.77697842, 0.84353741, 0.85915493, 0.85314685]),\n",
       " 'test_roc_auc': array([0.78929766, 0.69364548, 0.76722408, 0.72981771, 0.84714674])}"
      ]
     },
     "metadata": {},
     "execution_count": 26
    }
   ],
   "source": [
    "cv_results"
   ]
  },
  {
   "cell_type": "code",
   "execution_count": 27,
   "metadata": {},
   "outputs": [
    {
     "output_type": "execute_result",
     "data": {
      "text/plain": [
       "0.7358150470219437"
      ]
     },
     "metadata": {},
     "execution_count": 27
    }
   ],
   "source": [
    "cv_results['test_accuracy'].mean()"
   ]
  },
  {
   "cell_type": "code",
   "execution_count": 28,
   "metadata": {},
   "outputs": [
    {
     "output_type": "stream",
     "name": "stdout",
     "text": [
      "fit_time :  0.011778831481933594\nscore_time :  0.003940010070800781\ntest_accuracy :  0.7358150470219437\ntest_precision :  0.7659008311402651\ntest_recall :  0.9227884615384616\ntest_f1 :  0.8367762889487451\ntest_roc_auc :  0.7654263343088072\n"
     ]
    }
   ],
   "source": [
    "for i in cv_results:\n",
    "    print(i, \": \", cv_results[i].mean())"
   ]
  },
  {
   "cell_type": "code",
   "execution_count": 29,
   "metadata": {},
   "outputs": [
    {
     "output_type": "stream",
     "name": "stdout",
     "text": [
      "The model scores 0.66898 ROC AUC on the test set.\nThe precision score on the test set: 0.67826\nThe recall score on the test set: 0.85714\nConfusion Matrix:\n [[12 37]\n [13 78]]\nClassification Report:\n               precision    recall  f1-score   support\n\n           0       0.48      0.24      0.32        49\n           1       0.68      0.86      0.76        91\n\n    accuracy                           0.64       140\n   macro avg       0.58      0.55      0.54       140\nweighted avg       0.61      0.64      0.61       140\n\n"
     ]
    }
   ],
   "source": [
    "# ======== Step 2: Evaluate the model using testing data =======\n",
    "\n",
    "# fit the Logistic Regression model\n",
    "clf.fit(X=X_train_transform, y=y_train_transform)\n",
    "\n",
    "# predition on testing data\n",
    "y_pred_class = clf.predict(X=X_test_transform)\n",
    "y_pred_score = clf.predict_proba(X=X_test_transform)[:, 1]\n",
    "\n",
    "# AUC of ROC\n",
    "auc_ontest = roc_auc_score(y_true=y_test_transform, y_score=y_pred_score)\n",
    "# confusion matrix\n",
    "cm_ontest = confusion_matrix(y_true=y_test_transform, y_pred=y_pred_class)\n",
    "# precision score\n",
    "precision_ontest = precision_score(y_true=y_test_transform, y_pred=y_pred_class)\n",
    "# recall score\n",
    "recall_ontest = recall_score(y_true=y_test_transform, y_pred=y_pred_class)\n",
    "# classifition report\n",
    "cls_report_ontest = classification_report(y_true=y_test_transform, y_pred=y_pred_class)\n",
    "\n",
    "# print the above results\n",
    "print('The model scores {:1.5f} ROC AUC on the test set.'.format(auc_ontest))\n",
    "print('The precision score on the test set: {:1.5f}'.format(precision_ontest))\n",
    "print('The recall score on the test set: {:1.5f}'.format(recall_ontest))\n",
    "print('Confusion Matrix:\\n', cm_ontest)\n",
    "# Print classification report:\n",
    "print('Classification Report:\\n', cls_report_ontest)"
   ]
  },
  {
   "cell_type": "code",
   "execution_count": null,
   "metadata": {},
   "outputs": [],
   "source": []
  }
 ]
}