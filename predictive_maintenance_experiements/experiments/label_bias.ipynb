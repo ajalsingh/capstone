{
 "metadata": {
  "language_info": {
   "codemirror_mode": {
    "name": "ipython",
    "version": 3
   },
   "file_extension": ".py",
   "mimetype": "text/x-python",
   "name": "python",
   "nbconvert_exporter": "python",
   "pygments_lexer": "ipython3",
   "version": "3.6.9-final"
  },
  "orig_nbformat": 2,
  "kernelspec": {
   "name": "python3",
   "display_name": "Python 3.6.9 64-bit",
   "metadata": {
    "interpreter": {
     "hash": "31f2aee4e71d21fbe5cf8b01ff0e069b9275f58929596ceb00d14d90e3e16cd6"
    }
   }
  }
 },
 "nbformat": 4,
 "nbformat_minor": 2,
 "cells": [
  {
   "source": [
    "# Predictive Maintenance - Label Bias"
   ],
   "cell_type": "markdown",
   "metadata": {}
  },
  {
   "source": [
    "## Setup"
   ],
   "cell_type": "markdown",
   "metadata": {}
  },
  {
   "cell_type": "code",
   "execution_count": 2,
   "metadata": {},
   "outputs": [],
   "source": [
    "### IMPORT LIBRARIES\n",
    "import os\n",
    "import numpy as np\n",
    "import pandas as pd\n",
    "import matplotlib.pyplot as plt\n",
    "\n",
    "from sklearn.model_selection import train_test_split\n",
    "from sklearn.preprocessing import KBinsDiscretizer, MinMaxScaler, normalize\n",
    "from sklearn.metrics import accuracy_score, precision_score, recall_score, confusion_matrix, classification_report\n",
    "from sklearn.decomposition import PCA\n",
    "\n",
    "from sklearn.ensemble import RandomForestClassifier\n",
    "from sklearn.linear_model import LogisticRegression, LinearRegression, Lasso\n",
    "from sklearn.neighbors import KNeighborsClassifier\n",
    "from sklearn.neural_network import MLPClassifier\n",
    "from sklearn.svm import SVC\n",
    "from sklearn.naive_bayes import GaussianNB\n",
    "\n",
    "from sklearn.linear_model import SGDClassifier\n",
    "from sklearn import tree\n",
    "\n",
    "### READ DATA\n",
    "##### Needs to be ran from the project directory\n",
    "train_measurements = pd.read_csv('../datasets/measurements.csv')\n",
    "train_measurements = train_measurements.sort_values(by=['measurement_time'], ascending=[True])\n",
    "\n",
    "train_failures = pd.read_csv('../datasets/failures.csv')\n",
    "train_failures = train_failures.sort_values(by=['failure_time'], ascending=[True])"
   ]
  },
  {
   "source": [
    "## Data Preprocessing"
   ],
   "cell_type": "markdown",
   "metadata": {}
  },
  {
   "cell_type": "code",
   "execution_count": 3,
   "metadata": {},
   "outputs": [],
   "source": [
    "train_measurements.measurement_time = pd.to_datetime(train_measurements.measurement_time, format=\"%Y-%m-%d %H:%M:%S\")\n",
    "train_failures.failure_time = pd.to_datetime(train_failures.failure_time)\n",
    "\n",
    "### MERGE NEXT FAILURE TO MEASUREMENTS\n",
    "train_combined = pd.merge_asof(\n",
    "    train_measurements,\n",
    "    train_failures,\n",
    "    left_on='measurement_time',\n",
    "    right_on='failure_time',\n",
    "    by='gadget_id',\n",
    "    direction='forward',\n",
    ")\n",
    "\n",
    "### TRANSFORM COLUMNS\n",
    "train_combined['time_to_fail'] = train_combined['failure_time']-train_combined['measurement_time']\n",
    "train_combined['fail_in_1h'] = np.where(train_combined['time_to_fail']<pd.Timedelta(hours=1), 1, 0)\n",
    "\n",
    "### CALCULATE RUNNING MEASURES\n",
    "train_combined = train_combined.reset_index(drop=True)\n",
    "train_combined = train_combined.sort_values(by=['gadget_id', 'measurement_time'], ascending=[True, True])\n",
    "\n",
    "train_combined['temperature_6h_std'] = train_combined.groupby('gadget_id')['temperature'].rolling(6).std(ddof=0).reset_index(drop=True)\n",
    "train_combined['pressure_6h_mean'] = train_combined.groupby('gadget_id')['pressure'].rolling(6).mean().reset_index(drop=True)\n",
    "\n",
    "train_combined.to_csv('../datasets/train_combined.csv', index=False)"
   ]
  },
  {
   "cell_type": "code",
   "execution_count": 6,
   "metadata": {},
   "outputs": [
    {
     "output_type": "execute_result",
     "data": {
      "text/plain": [
       "           measurement_time  gadget_id  vibration_x  vibration_y  pressure  \\\n",
       "87  2020-07-15 13:59:59.930          3           10            2      16.0   \n",
       "279 2020-07-16 21:59:59.770          6            4            4      16.0   \n",
       "748 2020-07-20 03:59:59.505          6            7            2      16.0   \n",
       "919 2020-07-21 08:59:59.505          5            6            2      16.0   \n",
       "999 2020-07-21 21:59:59.505          1            4            2      12.0   \n",
       "\n",
       "     temperature  Unnamed: 10  Unnamed: 11                  failure_time  \\\n",
       "87     63.335759          NaN          NaN 2020-07-15 19:17:09.459192460   \n",
       "279    78.177636          NaN          NaN 2020-07-18 14:10:29.953822220   \n",
       "748    72.904098          NaN          NaN 2020-07-21 05:21:41.791182960   \n",
       "919    78.762979          NaN          NaN                           NaT   \n",
       "999    16.359486          NaN          NaN                           NaT   \n",
       "\n",
       "                 time_to_fail  fail_in_1h  temperature_6h_std  \\\n",
       "87  0 days 05:17:09.529192460           0            4.259392   \n",
       "279 1 days 16:10:30.183822220           0            4.639621   \n",
       "748 1 days 01:21:42.286182960           0            5.310451   \n",
       "919                       NaT           0            3.924165   \n",
       "999                       NaT           0            5.183439   \n",
       "\n",
       "     pressure_6h_mean  \n",
       "87          16.333333  \n",
       "279         14.666667  \n",
       "748         14.916667  \n",
       "919         14.833333  \n",
       "999         14.916667  "
      ],
      "text/html": "<div>\n<style scoped>\n    .dataframe tbody tr th:only-of-type {\n        vertical-align: middle;\n    }\n\n    .dataframe tbody tr th {\n        vertical-align: top;\n    }\n\n    .dataframe thead th {\n        text-align: right;\n    }\n</style>\n<table border=\"1\" class=\"dataframe\">\n  <thead>\n    <tr style=\"text-align: right;\">\n      <th></th>\n      <th>measurement_time</th>\n      <th>gadget_id</th>\n      <th>vibration_x</th>\n      <th>vibration_y</th>\n      <th>pressure</th>\n      <th>temperature</th>\n      <th>Unnamed: 10</th>\n      <th>Unnamed: 11</th>\n      <th>failure_time</th>\n      <th>time_to_fail</th>\n      <th>fail_in_1h</th>\n      <th>temperature_6h_std</th>\n      <th>pressure_6h_mean</th>\n    </tr>\n  </thead>\n  <tbody>\n    <tr>\n      <th>87</th>\n      <td>2020-07-15 13:59:59.930</td>\n      <td>3</td>\n      <td>10</td>\n      <td>2</td>\n      <td>16.0</td>\n      <td>63.335759</td>\n      <td>NaN</td>\n      <td>NaN</td>\n      <td>2020-07-15 19:17:09.459192460</td>\n      <td>0 days 05:17:09.529192460</td>\n      <td>0</td>\n      <td>4.259392</td>\n      <td>16.333333</td>\n    </tr>\n    <tr>\n      <th>279</th>\n      <td>2020-07-16 21:59:59.770</td>\n      <td>6</td>\n      <td>4</td>\n      <td>4</td>\n      <td>16.0</td>\n      <td>78.177636</td>\n      <td>NaN</td>\n      <td>NaN</td>\n      <td>2020-07-18 14:10:29.953822220</td>\n      <td>1 days 16:10:30.183822220</td>\n      <td>0</td>\n      <td>4.639621</td>\n      <td>14.666667</td>\n    </tr>\n    <tr>\n      <th>748</th>\n      <td>2020-07-20 03:59:59.505</td>\n      <td>6</td>\n      <td>7</td>\n      <td>2</td>\n      <td>16.0</td>\n      <td>72.904098</td>\n      <td>NaN</td>\n      <td>NaN</td>\n      <td>2020-07-21 05:21:41.791182960</td>\n      <td>1 days 01:21:42.286182960</td>\n      <td>0</td>\n      <td>5.310451</td>\n      <td>14.916667</td>\n    </tr>\n    <tr>\n      <th>919</th>\n      <td>2020-07-21 08:59:59.505</td>\n      <td>5</td>\n      <td>6</td>\n      <td>2</td>\n      <td>16.0</td>\n      <td>78.762979</td>\n      <td>NaN</td>\n      <td>NaN</td>\n      <td>NaT</td>\n      <td>NaT</td>\n      <td>0</td>\n      <td>3.924165</td>\n      <td>14.833333</td>\n    </tr>\n    <tr>\n      <th>999</th>\n      <td>2020-07-21 21:59:59.505</td>\n      <td>1</td>\n      <td>4</td>\n      <td>2</td>\n      <td>12.0</td>\n      <td>16.359486</td>\n      <td>NaN</td>\n      <td>NaN</td>\n      <td>NaT</td>\n      <td>NaT</td>\n      <td>0</td>\n      <td>5.183439</td>\n      <td>14.916667</td>\n    </tr>\n  </tbody>\n</table>\n</div>"
     },
     "metadata": {},
     "execution_count": 6
    }
   ],
   "source": [
    "train = train_combined.sample(frac = 0.5)\n",
    "train.shape\n",
    "train.head()"
   ]
  }
 ]
}